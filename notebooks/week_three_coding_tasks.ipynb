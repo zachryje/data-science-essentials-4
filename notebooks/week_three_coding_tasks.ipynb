{
 "cells": [
  {
   "cell_type": "markdown",
   "id": "312a59c1",
   "metadata": {},
   "source": [
    "## Week 3:\n",
    "\n",
    "New Topics:\n",
    "\n",
    " * Exploratory Data Analysis\n",
    "  \n",
    "\n",
    "Coding Task:\n",
    "\n",
    "This week, you will build off of your work from last week.\n",
    "1. First, (if you haven't done so already), create a new column indicating the SHADAC classification for each Tennessee county. You can use the following code to accomplish this:\n",
    "```\n",
    "physicians.loc[physicians['residents_per_pcp'] < 1500, 'shadac_category'] = 'adequate'\n",
    "physicians.loc[(physicians['residents_per_pcp'] >= 1500) & \n",
    "          (physicians['residents_per_pcp'] < 3500), 'shadac_category'] = 'moderately inadequate'\n",
    "physicians.loc[(physicians['residents_per_pcp'] >= 3500), 'shadac_category'] = 'low inadequate'\n",
    "```"
   ]
  },
  {
   "cell_type": "code",
   "execution_count": 2,
   "id": "8989bbfa",
   "metadata": {},
   "outputs": [],
   "source": [
    "import pandas as pd\n",
    "import matplotlib.pyplot as plt\n",
    "import seaborn as sns"
   ]
  },
  {
   "cell_type": "code",
   "execution_count": 3,
   "id": "010f547d",
   "metadata": {},
   "outputs": [],
   "source": [
    "# Read in data files\n",
    "physicians = pd.read_csv('../data/primary_care_physicians.csv')\n",
    "physicians.head()\n",
    "population = pd.read_csv('../data/population_by_county.csv')"
   ]
  },
  {
   "cell_type": "code",
   "execution_count": 4,
   "id": "e94f82fd",
   "metadata": {},
   "outputs": [],
   "source": [
    "physicians = physicians.loc[physicians['state'] == 'Tennessee']"
   ]
  },
  {
   "cell_type": "code",
   "execution_count": 5,
   "id": "053a7400",
   "metadata": {},
   "outputs": [],
   "source": [
    "# Correct column variables and merge data files; create new coluumn for residents per pcp\n",
    "population['county'].str.split(' County', expand = True)\n",
    "population['county']=population['county'].str.split(' County', expand = True)[0]\n",
    "population = population.loc[population['state'] == 'TENNESSEE']\n",
    "physicians = pd.merge(left = physicians,\n",
    "         right = population[['county','population', 'urban']])\n",
    "physicians['residents_per_pcp'] = physicians['population'] / physicians['primary_care_physicians']"
   ]
  },
  {
   "cell_type": "code",
   "execution_count": 6,
   "id": "47223f73",
   "metadata": {},
   "outputs": [],
   "source": [
    "# Create categories for level of care\n",
    "# Use .loc to add column, picks the new shadac category based on value in 'residents_per_pcp'\n",
    "physicians.loc[physicians['residents_per_pcp'] < 1500, 'shadac_category'] = 'adequate'\n",
    "physicians.loc[(physicians['residents_per_pcp'] >= 1500) & \n",
    "       (physicians['residents_per_pcp'] < 3500), 'shadac_category'] = 'moderately inadequate'\n",
    "physicians.loc[(physicians['residents_per_pcp'] >= 3500), 'shadac_category'] = 'low inadequate'"
   ]
  },
  {
   "cell_type": "code",
   "execution_count": 7,
   "id": "dc82944d",
   "metadata": {},
   "outputs": [
    {
     "data": {
      "text/html": [
       "<div>\n",
       "<style scoped>\n",
       "    .dataframe tbody tr th:only-of-type {\n",
       "        vertical-align: middle;\n",
       "    }\n",
       "\n",
       "    .dataframe tbody tr th {\n",
       "        vertical-align: top;\n",
       "    }\n",
       "\n",
       "    .dataframe thead th {\n",
       "        text-align: right;\n",
       "    }\n",
       "</style>\n",
       "<table border=\"1\" class=\"dataframe\">\n",
       "  <thead>\n",
       "    <tr style=\"text-align: right;\">\n",
       "      <th></th>\n",
       "      <th>FIPS</th>\n",
       "      <th>state</th>\n",
       "      <th>county</th>\n",
       "      <th>primary_care_physicians</th>\n",
       "      <th>population</th>\n",
       "      <th>urban</th>\n",
       "      <th>residents_per_pcp</th>\n",
       "      <th>shadac_category</th>\n",
       "    </tr>\n",
       "  </thead>\n",
       "  <tbody>\n",
       "    <tr>\n",
       "      <th>0</th>\n",
       "      <td>47001</td>\n",
       "      <td>Tennessee</td>\n",
       "      <td>Anderson</td>\n",
       "      <td>39.0</td>\n",
       "      <td>76061</td>\n",
       "      <td>Urban</td>\n",
       "      <td>1950.282051</td>\n",
       "      <td>moderately inadequate</td>\n",
       "    </tr>\n",
       "    <tr>\n",
       "      <th>1</th>\n",
       "      <td>47003</td>\n",
       "      <td>Tennessee</td>\n",
       "      <td>Bedford</td>\n",
       "      <td>15.0</td>\n",
       "      <td>48292</td>\n",
       "      <td>Rural</td>\n",
       "      <td>3219.466667</td>\n",
       "      <td>moderately inadequate</td>\n",
       "    </tr>\n",
       "    <tr>\n",
       "      <th>2</th>\n",
       "      <td>47005</td>\n",
       "      <td>Tennessee</td>\n",
       "      <td>Benton</td>\n",
       "      <td>3.0</td>\n",
       "      <td>16140</td>\n",
       "      <td>Rural</td>\n",
       "      <td>5380.000000</td>\n",
       "      <td>low inadequate</td>\n",
       "    </tr>\n",
       "    <tr>\n",
       "      <th>3</th>\n",
       "      <td>47007</td>\n",
       "      <td>Tennessee</td>\n",
       "      <td>Bledsoe</td>\n",
       "      <td>1.0</td>\n",
       "      <td>14836</td>\n",
       "      <td>Rural</td>\n",
       "      <td>14836.000000</td>\n",
       "      <td>low inadequate</td>\n",
       "    </tr>\n",
       "    <tr>\n",
       "      <th>4</th>\n",
       "      <td>47009</td>\n",
       "      <td>Tennessee</td>\n",
       "      <td>Blount</td>\n",
       "      <td>90.0</td>\n",
       "      <td>129927</td>\n",
       "      <td>Urban</td>\n",
       "      <td>1443.633333</td>\n",
       "      <td>adequate</td>\n",
       "    </tr>\n",
       "  </tbody>\n",
       "</table>\n",
       "</div>"
      ],
      "text/plain": [
       "    FIPS      state    county  primary_care_physicians  population  urban  \\\n",
       "0  47001  Tennessee  Anderson                     39.0       76061  Urban   \n",
       "1  47003  Tennessee   Bedford                     15.0       48292  Rural   \n",
       "2  47005  Tennessee    Benton                      3.0       16140  Rural   \n",
       "3  47007  Tennessee   Bledsoe                      1.0       14836  Rural   \n",
       "4  47009  Tennessee    Blount                     90.0      129927  Urban   \n",
       "\n",
       "   residents_per_pcp        shadac_category  \n",
       "0        1950.282051  moderately inadequate  \n",
       "1        3219.466667  moderately inadequate  \n",
       "2        5380.000000         low inadequate  \n",
       "3       14836.000000         low inadequate  \n",
       "4        1443.633333               adequate  "
      ]
     },
     "execution_count": 7,
     "metadata": {},
     "output_type": "execute_result"
    }
   ],
   "source": [
    "physicians.head()\n",
    "## check problem have other states"
   ]
  },
  {
   "cell_type": "markdown",
   "id": "4723a89e",
   "metadata": {},
   "source": [
    "2. Use this new column to investigate if there is any relationship between a county's status as urban or rural and its SHADAC classification. Create a plot showing what you find."
   ]
  },
  {
   "cell_type": "code",
   "execution_count": 8,
   "id": "c19384b8",
   "metadata": {},
   "outputs": [
    {
     "data": {
      "image/png": "[encoded data removed]",
      "text/plain": [
       "<Figure size 432x288 with 1 Axes>"
      ]
     },
     "metadata": {
      "needs_background": "light"
     },
     "output_type": "display_data"
    }
   ],
   "source": [
    "# this is not normalized crosstab -- just using raw values\n",
    "pd.crosstab(physicians['shadac_category'], physicians['urban']).plot(kind = 'bar', \n",
    "                                                          stacked = True,       # stacked as opposed to side-by-side\n",
    "                                                          color = ['cornflowerblue', 'coral', 'pink'],     # change the default colors\n",
    "                                                          edgecolor = 'black')              # add a border to the bars\n",
    "plt.title('Shadac Category by Urban-Rural Status')                   # add a title\n",
    "plt.xlabel('Shadac Category')\n",
    "plt.ylabel('Counts')\n",
    "plt.xticks(rotation = 0);                                             # change the appearance of the x tick labels"
   ]
  },
  {
   "cell_type": "code",
   "execution_count": 9,
   "id": "c572e7c6",
   "metadata": {},
   "outputs": [
    {
     "data": {
      "text/html": [
       "<div>\n",
       "<style scoped>\n",
       "    .dataframe tbody tr th:only-of-type {\n",
       "        vertical-align: middle;\n",
       "    }\n",
       "\n",
       "    .dataframe tbody tr th {\n",
       "        vertical-align: top;\n",
       "    }\n",
       "\n",
       "    .dataframe thead th {\n",
       "        text-align: right;\n",
       "    }\n",
       "</style>\n",
       "<table border=\"1\" class=\"dataframe\">\n",
       "  <thead>\n",
       "    <tr style=\"text-align: right;\">\n",
       "      <th>urban</th>\n",
       "      <th>Rural</th>\n",
       "      <th>Urban</th>\n",
       "    </tr>\n",
       "    <tr>\n",
       "      <th>shadac_category</th>\n",
       "      <th></th>\n",
       "      <th></th>\n",
       "    </tr>\n",
       "  </thead>\n",
       "  <tbody>\n",
       "    <tr>\n",
       "      <th>adequate</th>\n",
       "      <td>0.357143</td>\n",
       "      <td>0.642857</td>\n",
       "    </tr>\n",
       "    <tr>\n",
       "      <th>low inadequate</th>\n",
       "      <td>0.677419</td>\n",
       "      <td>0.322581</td>\n",
       "    </tr>\n",
       "    <tr>\n",
       "      <th>moderately inadequate</th>\n",
       "      <td>0.620000</td>\n",
       "      <td>0.380000</td>\n",
       "    </tr>\n",
       "  </tbody>\n",
       "</table>\n",
       "</div>"
      ],
      "text/plain": [
       "urban                     Rural     Urban\n",
       "shadac_category                          \n",
       "adequate               0.357143  0.642857\n",
       "low inadequate         0.677419  0.322581\n",
       "moderately inadequate  0.620000  0.380000"
      ]
     },
     "execution_count": 9,
     "metadata": {},
     "output_type": "execute_result"
    }
   ],
   "source": [
    "pd.crosstab(physicians['shadac_category'], physicians['urban'],  normalize = 'index')"
   ]
  },
  {
   "cell_type": "code",
   "execution_count": 10,
   "id": "d4e1172d",
   "metadata": {},
   "outputs": [
    {
     "data": {
      "text/plain": [
       "urban  shadac_category      \n",
       "Rural  adequate                  5\n",
       "       low inadequate           21\n",
       "       moderately inadequate    31\n",
       "Urban  adequate                  9\n",
       "       low inadequate           10\n",
       "       moderately inadequate    19\n",
       "dtype: int64"
      ]
     },
     "execution_count": 10,
     "metadata": {},
     "output_type": "execute_result"
    }
   ],
   "source": [
    "# Groupby works best on categorical variables, look at unique values in urban column and separate the data \n",
    "#into two and then by shadac category\n",
    "physicians.groupby([\"urban\", \"shadac_category\"]).size()"
   ]
  },
  {
   "cell_type": "markdown",
   "id": "46631bc5",
   "metadata": {},
   "source": [
    "3. Merge the unemployment data (contained in tn_unemployment.csv) into the physicians DataFrame."
   ]
  },
  {
   "cell_type": "code",
   "execution_count": 11,
   "id": "c0d2131c",
   "metadata": {},
   "outputs": [],
   "source": [
    "unemployment = pd.read_csv('../data/tn_unemployment.csv')\n",
    "#unemployment.head()"
   ]
  },
  {
   "cell_type": "code",
   "execution_count": 12,
   "id": "68a35afd",
   "metadata": {},
   "outputs": [],
   "source": [
    "unemployment['Name'].str.split(' County', expand = True)\n",
    "# Can use n = 1 to split on the first space .str.split(' ', n = 1, expand = True); otherwise will count on any time it\n",
    "# finds the delimeter\n",
    "unemployment['Name'] = unemployment['Name'].str.split(' County', expand = True)[0]\n",
    "#unemployment.head()"
   ]
  },
  {
   "cell_type": "code",
   "execution_count": 13,
   "id": "78471523",
   "metadata": {
    "scrolled": true
   },
   "outputs": [
    {
     "data": {
      "text/html": [
       "<div>\n",
       "<style scoped>\n",
       "    .dataframe tbody tr th:only-of-type {\n",
       "        vertical-align: middle;\n",
       "    }\n",
       "\n",
       "    .dataframe tbody tr th {\n",
       "        vertical-align: top;\n",
       "    }\n",
       "\n",
       "    .dataframe thead th {\n",
       "        text-align: right;\n",
       "    }\n",
       "</style>\n",
       "<table border=\"1\" class=\"dataframe\">\n",
       "  <thead>\n",
       "    <tr style=\"text-align: right;\">\n",
       "      <th></th>\n",
       "      <th>FIPS</th>\n",
       "      <th>state</th>\n",
       "      <th>county</th>\n",
       "      <th>primary_care_physicians</th>\n",
       "      <th>population</th>\n",
       "      <th>urban</th>\n",
       "      <th>residents_per_pcp</th>\n",
       "      <th>shadac_category</th>\n",
       "      <th>laus_code</th>\n",
       "      <th>State</th>\n",
       "      <th>County</th>\n",
       "      <th>Period</th>\n",
       "      <th>LF</th>\n",
       "      <th>Employed</th>\n",
       "      <th>Unemployed</th>\n",
       "      <th>unemployment_rate</th>\n",
       "    </tr>\n",
       "  </thead>\n",
       "  <tbody>\n",
       "    <tr>\n",
       "      <th>0</th>\n",
       "      <td>47001</td>\n",
       "      <td>Tennessee</td>\n",
       "      <td>Anderson</td>\n",
       "      <td>39.0</td>\n",
       "      <td>76061</td>\n",
       "      <td>Urban</td>\n",
       "      <td>1950.282051</td>\n",
       "      <td>moderately inadequate</td>\n",
       "      <td>CN4700100000000</td>\n",
       "      <td>47</td>\n",
       "      <td>1</td>\n",
       "      <td>Mar-21</td>\n",
       "      <td>34704</td>\n",
       "      <td>33010</td>\n",
       "      <td>1694</td>\n",
       "      <td>4.9</td>\n",
       "    </tr>\n",
       "    <tr>\n",
       "      <th>1</th>\n",
       "      <td>47003</td>\n",
       "      <td>Tennessee</td>\n",
       "      <td>Bedford</td>\n",
       "      <td>15.0</td>\n",
       "      <td>48292</td>\n",
       "      <td>Rural</td>\n",
       "      <td>3219.466667</td>\n",
       "      <td>moderately inadequate</td>\n",
       "      <td>CN4700300000000</td>\n",
       "      <td>47</td>\n",
       "      <td>3</td>\n",
       "      <td>Mar-21</td>\n",
       "      <td>20623</td>\n",
       "      <td>19550</td>\n",
       "      <td>1073</td>\n",
       "      <td>5.2</td>\n",
       "    </tr>\n",
       "    <tr>\n",
       "      <th>2</th>\n",
       "      <td>47005</td>\n",
       "      <td>Tennessee</td>\n",
       "      <td>Benton</td>\n",
       "      <td>3.0</td>\n",
       "      <td>16140</td>\n",
       "      <td>Rural</td>\n",
       "      <td>5380.000000</td>\n",
       "      <td>low inadequate</td>\n",
       "      <td>CN4700500000000</td>\n",
       "      <td>47</td>\n",
       "      <td>5</td>\n",
       "      <td>Mar-21</td>\n",
       "      <td>6723</td>\n",
       "      <td>6305</td>\n",
       "      <td>418</td>\n",
       "      <td>6.2</td>\n",
       "    </tr>\n",
       "    <tr>\n",
       "      <th>3</th>\n",
       "      <td>47007</td>\n",
       "      <td>Tennessee</td>\n",
       "      <td>Bledsoe</td>\n",
       "      <td>1.0</td>\n",
       "      <td>14836</td>\n",
       "      <td>Rural</td>\n",
       "      <td>14836.000000</td>\n",
       "      <td>low inadequate</td>\n",
       "      <td>CN4700700000000</td>\n",
       "      <td>47</td>\n",
       "      <td>7</td>\n",
       "      <td>Mar-21</td>\n",
       "      <td>4252</td>\n",
       "      <td>3947</td>\n",
       "      <td>305</td>\n",
       "      <td>7.2</td>\n",
       "    </tr>\n",
       "    <tr>\n",
       "      <th>4</th>\n",
       "      <td>47009</td>\n",
       "      <td>Tennessee</td>\n",
       "      <td>Blount</td>\n",
       "      <td>90.0</td>\n",
       "      <td>129927</td>\n",
       "      <td>Urban</td>\n",
       "      <td>1443.633333</td>\n",
       "      <td>adequate</td>\n",
       "      <td>CN4700900000000</td>\n",
       "      <td>47</td>\n",
       "      <td>9</td>\n",
       "      <td>Mar-21</td>\n",
       "      <td>64098</td>\n",
       "      <td>61119</td>\n",
       "      <td>2979</td>\n",
       "      <td>4.6</td>\n",
       "    </tr>\n",
       "  </tbody>\n",
       "</table>\n",
       "</div>"
      ],
      "text/plain": [
       "    FIPS      state    county  primary_care_physicians  population  urban  \\\n",
       "0  47001  Tennessee  Anderson                     39.0       76061  Urban   \n",
       "1  47003  Tennessee   Bedford                     15.0       48292  Rural   \n",
       "2  47005  Tennessee    Benton                      3.0       16140  Rural   \n",
       "3  47007  Tennessee   Bledsoe                      1.0       14836  Rural   \n",
       "4  47009  Tennessee    Blount                     90.0      129927  Urban   \n",
       "\n",
       "   residents_per_pcp        shadac_category        laus_code  State  County  \\\n",
       "0        1950.282051  moderately inadequate  CN4700100000000     47       1   \n",
       "1        3219.466667  moderately inadequate  CN4700300000000     47       3   \n",
       "2        5380.000000         low inadequate  CN4700500000000     47       5   \n",
       "3       14836.000000         low inadequate  CN4700700000000     47       7   \n",
       "4        1443.633333               adequate  CN4700900000000     47       9   \n",
       "\n",
       "   Period     LF  Employed  Unemployed  unemployment_rate  \n",
       "0  Mar-21  34704     33010        1694                4.9  \n",
       "1  Mar-21  20623     19550        1073                5.2  \n",
       "2  Mar-21   6723      6305         418                6.2  \n",
       "3  Mar-21   4252      3947         305                7.2  \n",
       "4  Mar-21  64098     61119        2979                4.6  "
      ]
     },
     "execution_count": 13,
     "metadata": {},
     "output_type": "execute_result"
    }
   ],
   "source": [
    "physicians = pd.merge(left = physicians,\n",
    "         right = unemployment.rename(columns = {'Name': 'county'}))\n",
    "physicians.head()"
   ]
  },
  {
   "cell_type": "markdown",
   "id": "a5a08c23",
   "metadata": {},
   "source": [
    "4. How do unemployment rates compare for urban counties versus rural counties?"
   ]
  },
  {
   "cell_type": "code",
   "execution_count": 14,
   "id": "8b85ee1f",
   "metadata": {},
   "outputs": [
    {
     "data": {
      "text/plain": [
       "urban\n",
       "Rural    5.850877\n",
       "Urban    4.918421\n",
       "Name: unemployment_rate, dtype: float64"
      ]
     },
     "execution_count": 14,
     "metadata": {},
     "output_type": "execute_result"
    }
   ],
   "source": [
    "physicians.groupby('urban')['unemployment_rate'].mean()"
   ]
  },
  {
   "cell_type": "code",
   "execution_count": 16,
   "id": "2e1880ad",
   "metadata": {},
   "outputs": [
    {
     "data": {
      "text/html": [
       "<div>\n",
       "<style scoped>\n",
       "    .dataframe tbody tr th:only-of-type {\n",
       "        vertical-align: middle;\n",
       "    }\n",
       "\n",
       "    .dataframe tbody tr th {\n",
       "        vertical-align: top;\n",
       "    }\n",
       "\n",
       "    .dataframe thead th {\n",
       "        text-align: right;\n",
       "    }\n",
       "</style>\n",
       "<table border=\"1\" class=\"dataframe\">\n",
       "  <thead>\n",
       "    <tr style=\"text-align: right;\">\n",
       "      <th></th>\n",
       "      <th>count</th>\n",
       "      <th>mean</th>\n",
       "      <th>std</th>\n",
       "      <th>min</th>\n",
       "      <th>25%</th>\n",
       "      <th>50%</th>\n",
       "      <th>75%</th>\n",
       "      <th>max</th>\n",
       "    </tr>\n",
       "    <tr>\n",
       "      <th>urban</th>\n",
       "      <th></th>\n",
       "      <th></th>\n",
       "      <th></th>\n",
       "      <th></th>\n",
       "      <th></th>\n",
       "      <th></th>\n",
       "      <th></th>\n",
       "      <th></th>\n",
       "    </tr>\n",
       "  </thead>\n",
       "  <tbody>\n",
       "    <tr>\n",
       "      <th>Rural</th>\n",
       "      <td>57.0</td>\n",
       "      <td>5.850877</td>\n",
       "      <td>0.976349</td>\n",
       "      <td>3.7</td>\n",
       "      <td>5.200</td>\n",
       "      <td>5.60</td>\n",
       "      <td>6.500</td>\n",
       "      <td>9.3</td>\n",
       "    </tr>\n",
       "    <tr>\n",
       "      <th>Urban</th>\n",
       "      <td>38.0</td>\n",
       "      <td>4.918421</td>\n",
       "      <td>0.759749</td>\n",
       "      <td>3.3</td>\n",
       "      <td>4.325</td>\n",
       "      <td>4.85</td>\n",
       "      <td>5.375</td>\n",
       "      <td>7.1</td>\n",
       "    </tr>\n",
       "  </tbody>\n",
       "</table>\n",
       "</div>"
      ],
      "text/plain": [
       "       count      mean       std  min    25%   50%    75%  max\n",
       "urban                                                         \n",
       "Rural   57.0  5.850877  0.976349  3.7  5.200  5.60  6.500  9.3\n",
       "Urban   38.0  4.918421  0.759749  3.3  4.325  4.85  5.375  7.1"
      ]
     },
     "execution_count": 16,
     "metadata": {},
     "output_type": "execute_result"
    }
   ],
   "source": [
    "physicians.groupby('urban')['unemployment_rate'].describe()"
   ]
  },
  {
   "cell_type": "code",
   "execution_count": 17,
   "id": "d03bcd87",
   "metadata": {},
   "outputs": [
    {
     "data": {
      "image/png": "[encoded data removed]",
      "text/plain": [
       "<Figure size 720x432 with 1 Axes>"
      ]
     },
     "metadata": {
      "needs_background": "light"
     },
     "output_type": "display_data"
    }
   ],
   "source": [
    "plt.figure(figsize = (10,6))\n",
    "sns.boxplot(data = physicians,\n",
    "           x = 'unemployment_rate',\n",
    "           y = 'urban');"
   ]
  },
  {
   "cell_type": "markdown",
   "id": "18995627",
   "metadata": {},
   "source": [
    "5. Create a new column, pcp_per_100k which contains the number of primary care physicians per 100,000 residents. Investigate the relationship between this new measure and the unemployment rate per county. What do you find?"
   ]
  },
  {
   "cell_type": "code",
   "execution_count": 20,
   "id": "b9788888",
   "metadata": {},
   "outputs": [
    {
     "data": {
      "text/plain": [
       "0    51.274635\n",
       "1    31.061045\n",
       "2    18.587361\n",
       "3     6.740361\n",
       "4    69.269667\n",
       "Name: pcp_per_100k, dtype: float64"
      ]
     },
     "execution_count": 20,
     "metadata": {},
     "output_type": "execute_result"
    }
   ],
   "source": [
    "physicians['pcp_per_100k'] = physicians['primary_care_physicians'] / physicians['population'] * 100000\n",
    "physicians['pcp_per_100k'].head()"
   ]
  },
  {
   "cell_type": "code",
   "execution_count": 21,
   "id": "f8b5439b",
   "metadata": {},
   "outputs": [
    {
     "data": {
      "text/html": [
       "<div>\n",
       "<style scoped>\n",
       "    .dataframe tbody tr th:only-of-type {\n",
       "        vertical-align: middle;\n",
       "    }\n",
       "\n",
       "    .dataframe tbody tr th {\n",
       "        vertical-align: top;\n",
       "    }\n",
       "\n",
       "    .dataframe thead th {\n",
       "        text-align: right;\n",
       "    }\n",
       "</style>\n",
       "<table border=\"1\" class=\"dataframe\">\n",
       "  <thead>\n",
       "    <tr style=\"text-align: right;\">\n",
       "      <th></th>\n",
       "      <th>pcp_per_100k</th>\n",
       "      <th>unemployment_rate</th>\n",
       "    </tr>\n",
       "  </thead>\n",
       "  <tbody>\n",
       "    <tr>\n",
       "      <th>pcp_per_100k</th>\n",
       "      <td>1.000000</td>\n",
       "      <td>-0.335333</td>\n",
       "    </tr>\n",
       "    <tr>\n",
       "      <th>unemployment_rate</th>\n",
       "      <td>-0.335333</td>\n",
       "      <td>1.000000</td>\n",
       "    </tr>\n",
       "  </tbody>\n",
       "</table>\n",
       "</div>"
      ],
      "text/plain": [
       "                   pcp_per_100k  unemployment_rate\n",
       "pcp_per_100k           1.000000          -0.335333\n",
       "unemployment_rate     -0.335333           1.000000"
      ]
     },
     "execution_count": 21,
     "metadata": {},
     "output_type": "execute_result"
    }
   ],
   "source": [
    "physicians[['pcp_per_100k', 'unemployment_rate']].corr()"
   ]
  },
  {
   "cell_type": "code",
   "execution_count": 23,
   "id": "bfa00491",
   "metadata": {},
   "outputs": [
    {
     "data": {
      "image/png": "[encoded data removed]",
      "text/plain": [
       "<Figure size 720x432 with 1 Axes>"
      ]
     },
     "metadata": {
      "needs_background": "light"
     },
     "output_type": "display_data"
    }
   ],
   "source": [
    "plt.figure(figsize = (10,6))\n",
    "\n",
    "sns.scatterplot(data = physicians,\n",
    "               x = 'pcp_per_100k',\n",
    "               y = 'unemployment_rate',\n",
    "               palette = ['cornflowerblue', 'coral', 'pink']);"
   ]
  },
  {
   "cell_type": "code",
   "execution_count": 25,
   "id": "f1def9b0",
   "metadata": {},
   "outputs": [
    {
     "data": {
      "image/png": "[encoded data removed]",
      "text/plain": [
       "<Figure size 720x432 with 1 Axes>"
      ]
     },
     "metadata": {
      "needs_background": "light"
     },
     "output_type": "display_data"
    }
   ],
   "source": [
    "physicians.plot(kind = 'scatter',\n",
    "             x = 'unemployment_rate',\n",
    "             y = 'pcp_per_100k',\n",
    "             figsize = (10,6));"
   ]
  },
  {
   "cell_type": "code",
   "execution_count": null,
   "id": "89540f74",
   "metadata": {},
   "outputs": [],
   "source": []
  }
 ],
 "metadata": {
  "kernelspec": {
   "display_name": "Python 3 (ipykernel)",
   "language": "python",
   "name": "python3"
  },
  "language_info": {
   "codemirror_mode": {
    "name": "ipython",
    "version": 3
   },
   "file_extension": ".py",
   "mimetype": "text/x-python",
   "name": "python",
   "nbconvert_exporter": "python",
   "pygments_lexer": "ipython3",
   "version": "3.9.6"
  }
 },
 "nbformat": 4,
 "nbformat_minor": 5
}
