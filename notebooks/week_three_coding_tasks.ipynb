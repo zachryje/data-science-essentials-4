{
 "cells": [
  {
   "cell_type": "markdown",
   "id": "312a59c1",
   "metadata": {},
   "source": [
    "## Week 3:\n",
    "\n",
    "New Topics:\n",
    "\n",
    " * Exploratory Data Analysis\n",
    "  \n",
    "\n",
    "Coding Task:\n",
    "\n",
    "This week, you will build off of your work from last week.\n",
    "1. First, (if you haven't done so already), create a new column indicating the SHADAC classification for each Tennessee county. You can use the following code to accomplish this:\n",
    "```\n",
    "physicians.loc[physicians['residents_per_pcp'] < 1500, 'shadac_category'] = 'adequate'\n",
    "physicians.loc[(physicians['residents_per_pcp'] >= 1500) & \n",
    "          (physicians['residents_per_pcp'] < 3500), 'shadac_category'] = 'moderately inadequate'\n",
    "physicians.loc[(physicians['residents_per_pcp'] >= 3500), 'shadac_category'] = 'low inadequate'\n",
    "```"
   ]
  },
  {
   "cell_type": "code",
   "execution_count": 1,
   "id": "8989bbfa",
   "metadata": {},
   "outputs": [],
   "source": [
    "import pandas as pd\n",
    "import matplotlib.pyplot as plt\n",
    "import seaborn as sns"
   ]
  },
  {
   "cell_type": "code",
   "execution_count": 2,
   "id": "010f547d",
   "metadata": {},
   "outputs": [],
   "source": [
    "# Read in data files\n",
    "physicians = pd.read_csv('../data/primary_care_physicians.csv')\n",
    "physicians.head()\n",
    "population = pd.read_csv('../data/population_by_county.csv')"
   ]
  },
  {
   "cell_type": "code",
   "execution_count": 3,
   "id": "053a7400",
   "metadata": {},
   "outputs": [],
   "source": [
    "# Correct column variables and merge data files; create new coluumn for residents per pcp\n",
    "population['county'].str.split(' County', expand = True)\n",
    "population['county']=population['county'].str.split(' County', expand = True)[0]\n",
    "population = population.loc[population['state'] == 'TENNESSEE']\n",
    "physicians = pd.merge(left = physicians,\n",
    "         right = population[['county','population', 'urban']])\n",
    "physicians['residents_per_pcp'] = physicians['population'] / physicians['primary_care_physicians']"
   ]
  },
  {
   "cell_type": "code",
   "execution_count": 4,
   "id": "47223f73",
   "metadata": {},
   "outputs": [],
   "source": [
    "# Create categories for level of care\n",
    "physicians.loc[physicians['residents_per_pcp'] < 1500, 'shadac_category'] = 'adequate'\n",
    "physicians.loc[(physicians['residents_per_pcp'] >= 1500) & \n",
    "       (physicians['residents_per_pcp'] < 3500), 'shadac_category'] = 'moderately inadequate'\n",
    "physicians.loc[(physicians['residents_per_pcp'] >= 3500), 'shadac_category'] = 'low inadequate'"
   ]
  },
  {
   "cell_type": "code",
   "execution_count": 10,
   "id": "0a96f312",
   "metadata": {},
   "outputs": [
    {
     "data": {
      "text/html": [
       "<div>\n",
       "<style scoped>\n",
       "    .dataframe tbody tr th:only-of-type {\n",
       "        vertical-align: middle;\n",
       "    }\n",
       "\n",
       "    .dataframe tbody tr th {\n",
       "        vertical-align: top;\n",
       "    }\n",
       "\n",
       "    .dataframe thead th {\n",
       "        text-align: right;\n",
       "    }\n",
       "</style>\n",
       "<table border=\"1\" class=\"dataframe\">\n",
       "  <thead>\n",
       "    <tr style=\"text-align: right;\">\n",
       "      <th></th>\n",
       "      <th>FIPS</th>\n",
       "      <th>state</th>\n",
       "      <th>county</th>\n",
       "      <th>primary_care_physicians</th>\n",
       "      <th>population</th>\n",
       "      <th>urban</th>\n",
       "      <th>residents_per_pcp</th>\n",
       "      <th>shadac_category</th>\n",
       "    </tr>\n",
       "  </thead>\n",
       "  <tbody>\n",
       "    <tr>\n",
       "      <th>0</th>\n",
       "      <td>1009</td>\n",
       "      <td>Alabama</td>\n",
       "      <td>Blount</td>\n",
       "      <td>12.0</td>\n",
       "      <td>129927</td>\n",
       "      <td>Urban</td>\n",
       "      <td>10827.250000</td>\n",
       "      <td>low inadequate</td>\n",
       "    </tr>\n",
       "    <tr>\n",
       "      <th>1</th>\n",
       "      <td>47009</td>\n",
       "      <td>Tennessee</td>\n",
       "      <td>Blount</td>\n",
       "      <td>90.0</td>\n",
       "      <td>129927</td>\n",
       "      <td>Urban</td>\n",
       "      <td>1443.633333</td>\n",
       "      <td>adequate</td>\n",
       "    </tr>\n",
       "    <tr>\n",
       "      <th>2</th>\n",
       "      <td>1027</td>\n",
       "      <td>Alabama</td>\n",
       "      <td>Clay</td>\n",
       "      <td>5.0</td>\n",
       "      <td>7654</td>\n",
       "      <td>Rural</td>\n",
       "      <td>1530.800000</td>\n",
       "      <td>moderately inadequate</td>\n",
       "    </tr>\n",
       "    <tr>\n",
       "      <th>3</th>\n",
       "      <td>5021</td>\n",
       "      <td>Arkansas</td>\n",
       "      <td>Clay</td>\n",
       "      <td>1.0</td>\n",
       "      <td>7654</td>\n",
       "      <td>Rural</td>\n",
       "      <td>7654.000000</td>\n",
       "      <td>low inadequate</td>\n",
       "    </tr>\n",
       "    <tr>\n",
       "      <th>4</th>\n",
       "      <td>12019</td>\n",
       "      <td>Florida</td>\n",
       "      <td>Clay</td>\n",
       "      <td>113.0</td>\n",
       "      <td>7654</td>\n",
       "      <td>Rural</td>\n",
       "      <td>67.734513</td>\n",
       "      <td>adequate</td>\n",
       "    </tr>\n",
       "  </tbody>\n",
       "</table>\n",
       "</div>"
      ],
      "text/plain": [
       "    FIPS      state  county  primary_care_physicians  population  urban  \\\n",
       "0   1009    Alabama  Blount                     12.0      129927  Urban   \n",
       "1  47009  Tennessee  Blount                     90.0      129927  Urban   \n",
       "2   1027    Alabama    Clay                      5.0        7654  Rural   \n",
       "3   5021   Arkansas    Clay                      1.0        7654  Rural   \n",
       "4  12019    Florida    Clay                    113.0        7654  Rural   \n",
       "\n",
       "   residents_per_pcp        shadac_category  \n",
       "0       10827.250000         low inadequate  \n",
       "1        1443.633333               adequate  \n",
       "2        1530.800000  moderately inadequate  \n",
       "3        7654.000000         low inadequate  \n",
       "4          67.734513               adequate  "
      ]
     },
     "execution_count": 10,
     "metadata": {},
     "output_type": "execute_result"
    }
   ],
   "source": [
    "physicians.head()"
   ]
  },
  {
   "cell_type": "markdown",
   "id": "4723a89e",
   "metadata": {},
   "source": [
    "2. Use this new column to investigate if there is any relationship between a county's status as urban or rural and its SHADAC classification. Create a plot showing what you find."
   ]
  },
  {
   "cell_type": "code",
   "execution_count": 13,
   "id": "c19384b8",
   "metadata": {},
   "outputs": [
    {
     "data": {
      "image/png": "[encoded data removed]",
      "text/plain": [
       "<Figure size 432x288 with 1 Axes>"
      ]
     },
     "metadata": {
      "needs_background": "light"
     },
     "output_type": "display_data"
    }
   ],
   "source": [
    "pd.crosstab(physicians['shadac_category'], physicians['urban']).plot(kind = 'bar', \n",
    "                                                          stacked = True,       # stacked as opposed to side-by-side\n",
    "                                                          color = ['cornflowerblue', 'coral', 'pink'],     # change the default colors\n",
    "                                                          edgecolor = 'black')              # add a border to the bars\n",
    "plt.title('Shadac Category by Urban-Rural Status')                   # add a title\n",
    "plt.xticks(rotation = 0);                                             # change the appearance of the x tick labels"
   ]
  },
  {
   "cell_type": "code",
   "execution_count": 14,
   "id": "414ef9e2",
   "metadata": {},
   "outputs": [
    {
     "data": {
      "text/html": [
       "<div>\n",
       "<style scoped>\n",
       "    .dataframe tbody tr th:only-of-type {\n",
       "        vertical-align: middle;\n",
       "    }\n",
       "\n",
       "    .dataframe tbody tr th {\n",
       "        vertical-align: top;\n",
       "    }\n",
       "\n",
       "    .dataframe thead th {\n",
       "        text-align: right;\n",
       "    }\n",
       "</style>\n",
       "<table border=\"1\" class=\"dataframe\">\n",
       "  <thead>\n",
       "    <tr style=\"text-align: right;\">\n",
       "      <th>urban</th>\n",
       "      <th>Rural</th>\n",
       "      <th>Urban</th>\n",
       "    </tr>\n",
       "    <tr>\n",
       "      <th>shadac_category</th>\n",
       "      <th></th>\n",
       "      <th></th>\n",
       "    </tr>\n",
       "  </thead>\n",
       "  <tbody>\n",
       "    <tr>\n",
       "      <th>adequate</th>\n",
       "      <td>0.671569</td>\n",
       "      <td>0.328431</td>\n",
       "    </tr>\n",
       "    <tr>\n",
       "      <th>low inadequate</th>\n",
       "      <td>0.540636</td>\n",
       "      <td>0.459364</td>\n",
       "    </tr>\n",
       "    <tr>\n",
       "      <th>moderately inadequate</th>\n",
       "      <td>0.664384</td>\n",
       "      <td>0.335616</td>\n",
       "    </tr>\n",
       "  </tbody>\n",
       "</table>\n",
       "</div>"
      ],
      "text/plain": [
       "urban                     Rural     Urban\n",
       "shadac_category                          \n",
       "adequate               0.671569  0.328431\n",
       "low inadequate         0.540636  0.459364\n",
       "moderately inadequate  0.664384  0.335616"
      ]
     },
     "execution_count": 14,
     "metadata": {},
     "output_type": "execute_result"
    }
   ],
   "source": [
    "pd.crosstab(physicians['shadac_category'], physicians['urban'],  normalize = 'index')"
   ]
  },
  {
   "cell_type": "markdown",
   "id": "46631bc5",
   "metadata": {},
   "source": [
    "3. Merge the unemployment data (contained in tn_unemployment.csv) into the physicians DataFrame."
   ]
  },
  {
   "cell_type": "code",
   "execution_count": 18,
   "id": "c0d2131c",
   "metadata": {},
   "outputs": [],
   "source": [
    "unemployment = pd.read_csv('../data/tn_unemployment.csv')\n",
    "#unemployment.head()"
   ]
  },
  {
   "cell_type": "code",
   "execution_count": 19,
   "id": "68a35afd",
   "metadata": {},
   "outputs": [],
   "source": [
    "unemployment['Name'].str.split(' County', expand = True)\n",
    "unemployment['Name'] = unemployment['Name'].str.split(' County', expand = True)[0]\n",
    "#unemployment.head()"
   ]
  },
  {
   "cell_type": "code",
   "execution_count": 20,
   "id": "78471523",
   "metadata": {},
   "outputs": [
    {
     "data": {
      "text/html": [
       "<div>\n",
       "<style scoped>\n",
       "    .dataframe tbody tr th:only-of-type {\n",
       "        vertical-align: middle;\n",
       "    }\n",
       "\n",
       "    .dataframe tbody tr th {\n",
       "        vertical-align: top;\n",
       "    }\n",
       "\n",
       "    .dataframe thead th {\n",
       "        text-align: right;\n",
       "    }\n",
       "</style>\n",
       "<table border=\"1\" class=\"dataframe\">\n",
       "  <thead>\n",
       "    <tr style=\"text-align: right;\">\n",
       "      <th></th>\n",
       "      <th>FIPS</th>\n",
       "      <th>state</th>\n",
       "      <th>county</th>\n",
       "      <th>primary_care_physicians</th>\n",
       "      <th>population</th>\n",
       "      <th>urban</th>\n",
       "      <th>residents_per_pcp</th>\n",
       "      <th>shadac_category</th>\n",
       "      <th>pcp_per_100k</th>\n",
       "      <th>laus_code</th>\n",
       "      <th>State</th>\n",
       "      <th>County</th>\n",
       "      <th>Period</th>\n",
       "      <th>LF</th>\n",
       "      <th>Employed</th>\n",
       "      <th>Unemployed</th>\n",
       "      <th>unemployment_rate</th>\n",
       "    </tr>\n",
       "  </thead>\n",
       "  <tbody>\n",
       "    <tr>\n",
       "      <th>0</th>\n",
       "      <td>1009</td>\n",
       "      <td>Alabama</td>\n",
       "      <td>Blount</td>\n",
       "      <td>12.0</td>\n",
       "      <td>129927</td>\n",
       "      <td>Urban</td>\n",
       "      <td>10827.250000</td>\n",
       "      <td>low inadequate</td>\n",
       "      <td>0.108272</td>\n",
       "      <td>CN4700900000000</td>\n",
       "      <td>47</td>\n",
       "      <td>9</td>\n",
       "      <td>Mar-21</td>\n",
       "      <td>64098</td>\n",
       "      <td>61119</td>\n",
       "      <td>2979</td>\n",
       "      <td>4.6</td>\n",
       "    </tr>\n",
       "    <tr>\n",
       "      <th>1</th>\n",
       "      <td>47009</td>\n",
       "      <td>Tennessee</td>\n",
       "      <td>Blount</td>\n",
       "      <td>90.0</td>\n",
       "      <td>129927</td>\n",
       "      <td>Urban</td>\n",
       "      <td>1443.633333</td>\n",
       "      <td>adequate</td>\n",
       "      <td>0.014436</td>\n",
       "      <td>CN4700900000000</td>\n",
       "      <td>47</td>\n",
       "      <td>9</td>\n",
       "      <td>Mar-21</td>\n",
       "      <td>64098</td>\n",
       "      <td>61119</td>\n",
       "      <td>2979</td>\n",
       "      <td>4.6</td>\n",
       "    </tr>\n",
       "    <tr>\n",
       "      <th>2</th>\n",
       "      <td>1027</td>\n",
       "      <td>Alabama</td>\n",
       "      <td>Clay</td>\n",
       "      <td>5.0</td>\n",
       "      <td>7654</td>\n",
       "      <td>Rural</td>\n",
       "      <td>1530.800000</td>\n",
       "      <td>moderately inadequate</td>\n",
       "      <td>0.015308</td>\n",
       "      <td>CN4702700000000</td>\n",
       "      <td>47</td>\n",
       "      <td>27</td>\n",
       "      <td>Mar-21</td>\n",
       "      <td>2743</td>\n",
       "      <td>2557</td>\n",
       "      <td>186</td>\n",
       "      <td>6.8</td>\n",
       "    </tr>\n",
       "    <tr>\n",
       "      <th>3</th>\n",
       "      <td>5021</td>\n",
       "      <td>Arkansas</td>\n",
       "      <td>Clay</td>\n",
       "      <td>1.0</td>\n",
       "      <td>7654</td>\n",
       "      <td>Rural</td>\n",
       "      <td>7654.000000</td>\n",
       "      <td>low inadequate</td>\n",
       "      <td>0.076540</td>\n",
       "      <td>CN4702700000000</td>\n",
       "      <td>47</td>\n",
       "      <td>27</td>\n",
       "      <td>Mar-21</td>\n",
       "      <td>2743</td>\n",
       "      <td>2557</td>\n",
       "      <td>186</td>\n",
       "      <td>6.8</td>\n",
       "    </tr>\n",
       "    <tr>\n",
       "      <th>4</th>\n",
       "      <td>12019</td>\n",
       "      <td>Florida</td>\n",
       "      <td>Clay</td>\n",
       "      <td>113.0</td>\n",
       "      <td>7654</td>\n",
       "      <td>Rural</td>\n",
       "      <td>67.734513</td>\n",
       "      <td>adequate</td>\n",
       "      <td>0.000677</td>\n",
       "      <td>CN4702700000000</td>\n",
       "      <td>47</td>\n",
       "      <td>27</td>\n",
       "      <td>Mar-21</td>\n",
       "      <td>2743</td>\n",
       "      <td>2557</td>\n",
       "      <td>186</td>\n",
       "      <td>6.8</td>\n",
       "    </tr>\n",
       "  </tbody>\n",
       "</table>\n",
       "</div>"
      ],
      "text/plain": [
       "    FIPS      state  county  primary_care_physicians  population  urban  \\\n",
       "0   1009    Alabama  Blount                     12.0      129927  Urban   \n",
       "1  47009  Tennessee  Blount                     90.0      129927  Urban   \n",
       "2   1027    Alabama    Clay                      5.0        7654  Rural   \n",
       "3   5021   Arkansas    Clay                      1.0        7654  Rural   \n",
       "4  12019    Florida    Clay                    113.0        7654  Rural   \n",
       "\n",
       "   residents_per_pcp        shadac_category  pcp_per_100k        laus_code  \\\n",
       "0       10827.250000         low inadequate      0.108272  CN4700900000000   \n",
       "1        1443.633333               adequate      0.014436  CN4700900000000   \n",
       "2        1530.800000  moderately inadequate      0.015308  CN4702700000000   \n",
       "3        7654.000000         low inadequate      0.076540  CN4702700000000   \n",
       "4          67.734513               adequate      0.000677  CN4702700000000   \n",
       "\n",
       "   State  County  Period     LF  Employed  Unemployed  unemployment_rate  \n",
       "0     47       9  Mar-21  64098     61119        2979                4.6  \n",
       "1     47       9  Mar-21  64098     61119        2979                4.6  \n",
       "2     47      27  Mar-21   2743      2557         186                6.8  \n",
       "3     47      27  Mar-21   2743      2557         186                6.8  \n",
       "4     47      27  Mar-21   2743      2557         186                6.8  "
      ]
     },
     "execution_count": 20,
     "metadata": {},
     "output_type": "execute_result"
    }
   ],
   "source": [
    "physicians = pd.merge(left = physicians,\n",
    "         right = unemployment.rename(columns = {'Name': 'county'}))\n",
    "physicians.head()"
   ]
  },
  {
   "cell_type": "markdown",
   "id": "a5a08c23",
   "metadata": {},
   "source": [
    "4. How do unemployment rates compare for urban counties versus rural counties?"
   ]
  },
  {
   "cell_type": "code",
   "execution_count": 23,
   "id": "8b85ee1f",
   "metadata": {},
   "outputs": [
    {
     "data": {
      "text/plain": [
       "urban\n",
       "Rural    5.818863\n",
       "Urban    5.054878\n",
       "Name: unemployment_rate, dtype: float64"
      ]
     },
     "execution_count": 23,
     "metadata": {},
     "output_type": "execute_result"
    }
   ],
   "source": [
    "physicians.groupby('urban')['unemployment_rate'].mean()"
   ]
  },
  {
   "cell_type": "markdown",
   "id": "18995627",
   "metadata": {},
   "source": [
    "5. Create a new column, pcp_per_100k which contains the number of primary care physicians per 100,000 residents. Investigate the relationship between this new measure and the unemployment rate per county. What do you find?"
   ]
  },
  {
   "cell_type": "code",
   "execution_count": 16,
   "id": "83eb4ce7",
   "metadata": {},
   "outputs": [
    {
     "data": {
      "text/plain": [
       "0      0.108272\n",
       "1      0.014436\n",
       "2      0.015308\n",
       "3      0.076540\n",
       "4      0.000677\n",
       "         ...   \n",
       "628    0.075821\n",
       "629    0.029632\n",
       "630    0.051155\n",
       "631    0.029685\n",
       "632    0.018617\n",
       "Name: pcp_per_100k, Length: 633, dtype: float64"
      ]
     },
     "execution_count": 16,
     "metadata": {},
     "output_type": "execute_result"
    }
   ],
   "source": [
    "physicians['pcp_per_100k'] = (physicians['population']/100000) / physicians['primary_care_physicians']\n",
    "physicians['pcp_per_100k']"
   ]
  },
  {
   "cell_type": "code",
   "execution_count": null,
   "id": "f8b5439b",
   "metadata": {},
   "outputs": [],
   "source": []
  }
 ],
 "metadata": {
  "kernelspec": {
   "display_name": "Python 3",
   "language": "python",
   "name": "python3"
  },
  "language_info": {
   "codemirror_mode": {
    "name": "ipython",
    "version": 3
   },
   "file_extension": ".py",
   "mimetype": "text/x-python",
   "name": "python",
   "nbconvert_exporter": "python",
   "pygments_lexer": "ipython3",
   "version": "3.8.8"
  }
 },
 "nbformat": 4,
 "nbformat_minor": 5
}
