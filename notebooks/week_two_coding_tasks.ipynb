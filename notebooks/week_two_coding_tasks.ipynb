{
 "cells": [
  {
   "cell_type": "markdown",
   "id": "c6b1bb5e",
   "metadata": {},
   "source": [
    "## Week 2:\n",
    " \n",
    "New Topics:\n",
    "\n",
    " - Resources for help with coding \n",
    " - Creating a reproducible workflow\n",
    " - Merging _pandas_ DataFrames\n",
    " - Additional _pandas_ methods \n",
    " \n",
    "\n",
    "Coding Tasks:\n",
    "\n",
    "Start a new Jupyter Notebook to complete these tasks. This week, you'll be combining two different datasets.\n",
    "\n",
    "First, you'll work with a dataset containing the number of primary care physicians per county for each county in the United States. It was obtained from the Area Health Resources File, published by the [Health Resources and Services Administration](https://data.hrsa.gov/topics/health-workforce/ahrf). This data is contained in the file `primary_care_physicians.csv`.\n",
    "\n",
    "Second, the file `population_by_county.csv` contains the Census Bureau's 2019 population estimates for each US County. It also contains a column `urban`. The `urban` column uses data from the National Bureau of Economic Research to classify each county as either urban or rural. The U.S. Office of Management and Budget designates counties as metropolitan (a core urban area of 50,000 or more population), micropolitan (an urban core of at least 10,000 but less than 50,000 population), or neither. Here, a county is considered \"urban\" if it is part of a metropolitan or micropolitan area and \"rural\" if it is not.\n",
    "\n",
    " 1. First, import the primary care physicians dataset (`primary_care_physicians.csv`) into a data frame named `physicians`. "
   ]
  },
  {
   "cell_type": "code",
   "execution_count": 3,
   "id": "84a5d828",
   "metadata": {},
   "outputs": [
    {
     "data": {
      "text/html": [
       "<div>\n",
       "<style scoped>\n",
       "    .dataframe tbody tr th:only-of-type {\n",
       "        vertical-align: middle;\n",
       "    }\n",
       "\n",
       "    .dataframe tbody tr th {\n",
       "        vertical-align: top;\n",
       "    }\n",
       "\n",
       "    .dataframe thead th {\n",
       "        text-align: right;\n",
       "    }\n",
       "</style>\n",
       "<table border=\"1\" class=\"dataframe\">\n",
       "  <thead>\n",
       "    <tr style=\"text-align: right;\">\n",
       "      <th></th>\n",
       "      <th>FIPS</th>\n",
       "      <th>state</th>\n",
       "      <th>county</th>\n",
       "      <th>primary_care_physicians</th>\n",
       "    </tr>\n",
       "  </thead>\n",
       "  <tbody>\n",
       "    <tr>\n",
       "      <th>0</th>\n",
       "      <td>1001</td>\n",
       "      <td>Alabama</td>\n",
       "      <td>Autauga</td>\n",
       "      <td>26.0</td>\n",
       "    </tr>\n",
       "    <tr>\n",
       "      <th>1</th>\n",
       "      <td>1003</td>\n",
       "      <td>Alabama</td>\n",
       "      <td>Baldwin</td>\n",
       "      <td>153.0</td>\n",
       "    </tr>\n",
       "    <tr>\n",
       "      <th>2</th>\n",
       "      <td>1005</td>\n",
       "      <td>Alabama</td>\n",
       "      <td>Barbour</td>\n",
       "      <td>8.0</td>\n",
       "    </tr>\n",
       "    <tr>\n",
       "      <th>3</th>\n",
       "      <td>1007</td>\n",
       "      <td>Alabama</td>\n",
       "      <td>Bibb</td>\n",
       "      <td>12.0</td>\n",
       "    </tr>\n",
       "    <tr>\n",
       "      <th>4</th>\n",
       "      <td>1009</td>\n",
       "      <td>Alabama</td>\n",
       "      <td>Blount</td>\n",
       "      <td>12.0</td>\n",
       "    </tr>\n",
       "    <tr>\n",
       "      <th>...</th>\n",
       "      <td>...</td>\n",
       "      <td>...</td>\n",
       "      <td>...</td>\n",
       "      <td>...</td>\n",
       "    </tr>\n",
       "    <tr>\n",
       "      <th>3225</th>\n",
       "      <td>72151</td>\n",
       "      <td>Puerto Rico</td>\n",
       "      <td>Yabucoa</td>\n",
       "      <td>5.0</td>\n",
       "    </tr>\n",
       "    <tr>\n",
       "      <th>3226</th>\n",
       "      <td>72153</td>\n",
       "      <td>Puerto Rico</td>\n",
       "      <td>Yauco</td>\n",
       "      <td>43.0</td>\n",
       "    </tr>\n",
       "    <tr>\n",
       "      <th>3227</th>\n",
       "      <td>78010</td>\n",
       "      <td>US Virgin Islands</td>\n",
       "      <td>St. Croix</td>\n",
       "      <td>14.0</td>\n",
       "    </tr>\n",
       "    <tr>\n",
       "      <th>3228</th>\n",
       "      <td>78020</td>\n",
       "      <td>US Virgin Islands</td>\n",
       "      <td>St. John</td>\n",
       "      <td>1.0</td>\n",
       "    </tr>\n",
       "    <tr>\n",
       "      <th>3229</th>\n",
       "      <td>78030</td>\n",
       "      <td>US Virgin Islands</td>\n",
       "      <td>St. Thomas</td>\n",
       "      <td>28.0</td>\n",
       "    </tr>\n",
       "  </tbody>\n",
       "</table>\n",
       "<p>3230 rows × 4 columns</p>\n",
       "</div>"
      ],
      "text/plain": [
       "       FIPS              state      county  primary_care_physicians\n",
       "0      1001            Alabama     Autauga                     26.0\n",
       "1      1003            Alabama     Baldwin                    153.0\n",
       "2      1005            Alabama     Barbour                      8.0\n",
       "3      1007            Alabama        Bibb                     12.0\n",
       "4      1009            Alabama      Blount                     12.0\n",
       "...     ...                ...         ...                      ...\n",
       "3225  72151        Puerto Rico     Yabucoa                      5.0\n",
       "3226  72153        Puerto Rico       Yauco                     43.0\n",
       "3227  78010  US Virgin Islands   St. Croix                     14.0\n",
       "3228  78020  US Virgin Islands    St. John                      1.0\n",
       "3229  78030  US Virgin Islands  St. Thomas                     28.0\n",
       "\n",
       "[3230 rows x 4 columns]"
      ]
     },
     "execution_count": 3,
     "metadata": {},
     "output_type": "execute_result"
    }
   ],
   "source": [
    "import pandas as pd\n",
    "physicians = pd.read_csv('../data/primary_care_physicians.csv')\n",
    "physicians"
   ]
  },
  {
   "cell_type": "markdown",
   "id": "bf9de797",
   "metadata": {},
   "source": [
    "2. Filter physicians down to just the counties in Tennessee. Save the filtered dataframe back to physicians. Verify that the resulting dataframe has 95 rows."
   ]
  },
  {
   "cell_type": "code",
   "execution_count": 4,
   "id": "0e2d675c",
   "metadata": {},
   "outputs": [
    {
     "data": {
      "text/plain": [
       "(95, 4)"
      ]
     },
     "execution_count": 4,
     "metadata": {},
     "output_type": "execute_result"
    }
   ],
   "source": [
    "physicians = physicians.loc[physicians['state'] == 'Tennessee']\n",
    "physicians.shape"
   ]
  },
  {
   "cell_type": "markdown",
   "id": "d3934702",
   "metadata": {},
   "source": [
    "3. Look at the distribution of the number of primary care physicians. What do you notice?"
   ]
  },
  {
   "cell_type": "code",
   "execution_count": 5,
   "id": "5cbae1aa",
   "metadata": {},
   "outputs": [
    {
     "data": {
      "text/html": [
       "<div>\n",
       "<style scoped>\n",
       "    .dataframe tbody tr th:only-of-type {\n",
       "        vertical-align: middle;\n",
       "    }\n",
       "\n",
       "    .dataframe tbody tr th {\n",
       "        vertical-align: top;\n",
       "    }\n",
       "\n",
       "    .dataframe thead th {\n",
       "        text-align: right;\n",
       "    }\n",
       "</style>\n",
       "<table border=\"1\" class=\"dataframe\">\n",
       "  <thead>\n",
       "    <tr style=\"text-align: right;\">\n",
       "      <th></th>\n",
       "      <th>FIPS</th>\n",
       "      <th>state</th>\n",
       "      <th>county</th>\n",
       "      <th>primary_care_physicians</th>\n",
       "    </tr>\n",
       "  </thead>\n",
       "  <tbody>\n",
       "    <tr>\n",
       "      <th>2432</th>\n",
       "      <td>47001</td>\n",
       "      <td>Tennessee</td>\n",
       "      <td>Anderson</td>\n",
       "      <td>39.0</td>\n",
       "    </tr>\n",
       "    <tr>\n",
       "      <th>2433</th>\n",
       "      <td>47003</td>\n",
       "      <td>Tennessee</td>\n",
       "      <td>Bedford</td>\n",
       "      <td>15.0</td>\n",
       "    </tr>\n",
       "    <tr>\n",
       "      <th>2434</th>\n",
       "      <td>47005</td>\n",
       "      <td>Tennessee</td>\n",
       "      <td>Benton</td>\n",
       "      <td>3.0</td>\n",
       "    </tr>\n",
       "    <tr>\n",
       "      <th>2435</th>\n",
       "      <td>47007</td>\n",
       "      <td>Tennessee</td>\n",
       "      <td>Bledsoe</td>\n",
       "      <td>1.0</td>\n",
       "    </tr>\n",
       "    <tr>\n",
       "      <th>2436</th>\n",
       "      <td>47009</td>\n",
       "      <td>Tennessee</td>\n",
       "      <td>Blount</td>\n",
       "      <td>90.0</td>\n",
       "    </tr>\n",
       "    <tr>\n",
       "      <th>...</th>\n",
       "      <td>...</td>\n",
       "      <td>...</td>\n",
       "      <td>...</td>\n",
       "      <td>...</td>\n",
       "    </tr>\n",
       "    <tr>\n",
       "      <th>2522</th>\n",
       "      <td>47181</td>\n",
       "      <td>Tennessee</td>\n",
       "      <td>Wayne</td>\n",
       "      <td>5.0</td>\n",
       "    </tr>\n",
       "    <tr>\n",
       "      <th>2523</th>\n",
       "      <td>47183</td>\n",
       "      <td>Tennessee</td>\n",
       "      <td>Weakley</td>\n",
       "      <td>18.0</td>\n",
       "    </tr>\n",
       "    <tr>\n",
       "      <th>2524</th>\n",
       "      <td>47185</td>\n",
       "      <td>Tennessee</td>\n",
       "      <td>White</td>\n",
       "      <td>9.0</td>\n",
       "    </tr>\n",
       "    <tr>\n",
       "      <th>2525</th>\n",
       "      <td>47187</td>\n",
       "      <td>Tennessee</td>\n",
       "      <td>Williamson</td>\n",
       "      <td>338.0</td>\n",
       "    </tr>\n",
       "    <tr>\n",
       "      <th>2526</th>\n",
       "      <td>47189</td>\n",
       "      <td>Tennessee</td>\n",
       "      <td>Wilson</td>\n",
       "      <td>43.0</td>\n",
       "    </tr>\n",
       "  </tbody>\n",
       "</table>\n",
       "<p>95 rows × 4 columns</p>\n",
       "</div>"
      ],
      "text/plain": [
       "       FIPS      state      county  primary_care_physicians\n",
       "2432  47001  Tennessee    Anderson                     39.0\n",
       "2433  47003  Tennessee     Bedford                     15.0\n",
       "2434  47005  Tennessee      Benton                      3.0\n",
       "2435  47007  Tennessee     Bledsoe                      1.0\n",
       "2436  47009  Tennessee      Blount                     90.0\n",
       "...     ...        ...         ...                      ...\n",
       "2522  47181  Tennessee       Wayne                      5.0\n",
       "2523  47183  Tennessee     Weakley                     18.0\n",
       "2524  47185  Tennessee       White                      9.0\n",
       "2525  47187  Tennessee  Williamson                    338.0\n",
       "2526  47189  Tennessee      Wilson                     43.0\n",
       "\n",
       "[95 rows x 4 columns]"
      ]
     },
     "execution_count": 5,
     "metadata": {},
     "output_type": "execute_result"
    }
   ],
   "source": [
    "physicians"
   ]
  },
  {
   "cell_type": "markdown",
   "id": "6fadb377",
   "metadata": {},
   "source": [
    "4. Now, import the population by county dataset (population_by_county.csv) into a DataFrame named population."
   ]
  },
  {
   "cell_type": "code",
   "execution_count": 6,
   "id": "0e98accb",
   "metadata": {},
   "outputs": [
    {
     "data": {
      "text/html": [
       "<div>\n",
       "<style scoped>\n",
       "    .dataframe tbody tr th:only-of-type {\n",
       "        vertical-align: middle;\n",
       "    }\n",
       "\n",
       "    .dataframe tbody tr th {\n",
       "        vertical-align: top;\n",
       "    }\n",
       "\n",
       "    .dataframe thead th {\n",
       "        text-align: right;\n",
       "    }\n",
       "</style>\n",
       "<table border=\"1\" class=\"dataframe\">\n",
       "  <thead>\n",
       "    <tr style=\"text-align: right;\">\n",
       "      <th></th>\n",
       "      <th>FIPS</th>\n",
       "      <th>population</th>\n",
       "      <th>county</th>\n",
       "      <th>state</th>\n",
       "      <th>urban</th>\n",
       "    </tr>\n",
       "  </thead>\n",
       "  <tbody>\n",
       "    <tr>\n",
       "      <th>0</th>\n",
       "      <td>17051</td>\n",
       "      <td>21565</td>\n",
       "      <td>Fayette County</td>\n",
       "      <td>ILLINOIS</td>\n",
       "      <td>Rural</td>\n",
       "    </tr>\n",
       "    <tr>\n",
       "      <th>1</th>\n",
       "      <td>17107</td>\n",
       "      <td>29003</td>\n",
       "      <td>Logan County</td>\n",
       "      <td>ILLINOIS</td>\n",
       "      <td>Rural</td>\n",
       "    </tr>\n",
       "    <tr>\n",
       "      <th>2</th>\n",
       "      <td>17165</td>\n",
       "      <td>23994</td>\n",
       "      <td>Saline County</td>\n",
       "      <td>ILLINOIS</td>\n",
       "      <td>Rural</td>\n",
       "    </tr>\n",
       "    <tr>\n",
       "      <th>3</th>\n",
       "      <td>17097</td>\n",
       "      <td>701473</td>\n",
       "      <td>Lake County</td>\n",
       "      <td>ILLINOIS</td>\n",
       "      <td>Urban</td>\n",
       "    </tr>\n",
       "    <tr>\n",
       "      <th>4</th>\n",
       "      <td>17127</td>\n",
       "      <td>14219</td>\n",
       "      <td>Massac County</td>\n",
       "      <td>ILLINOIS</td>\n",
       "      <td>Rural</td>\n",
       "    </tr>\n",
       "    <tr>\n",
       "      <th>...</th>\n",
       "      <td>...</td>\n",
       "      <td>...</td>\n",
       "      <td>...</td>\n",
       "      <td>...</td>\n",
       "      <td>...</td>\n",
       "    </tr>\n",
       "    <tr>\n",
       "      <th>3197</th>\n",
       "      <td>47033</td>\n",
       "      <td>14399</td>\n",
       "      <td>Crockett County</td>\n",
       "      <td>TENNESSEE</td>\n",
       "      <td>Rural</td>\n",
       "    </tr>\n",
       "    <tr>\n",
       "      <th>3198</th>\n",
       "      <td>47095</td>\n",
       "      <td>7401</td>\n",
       "      <td>Lake County</td>\n",
       "      <td>TENNESSEE</td>\n",
       "      <td>Rural</td>\n",
       "    </tr>\n",
       "    <tr>\n",
       "      <th>3199</th>\n",
       "      <td>47093</td>\n",
       "      <td>461104</td>\n",
       "      <td>Knox County</td>\n",
       "      <td>TENNESSEE</td>\n",
       "      <td>Urban</td>\n",
       "    </tr>\n",
       "    <tr>\n",
       "      <th>3200</th>\n",
       "      <td>53005</td>\n",
       "      <td>197518</td>\n",
       "      <td>Benton County</td>\n",
       "      <td>WASHINGTON</td>\n",
       "      <td>Urban</td>\n",
       "    </tr>\n",
       "    <tr>\n",
       "      <th>3201</th>\n",
       "      <td>53011</td>\n",
       "      <td>473252</td>\n",
       "      <td>Clark County</td>\n",
       "      <td>WASHINGTON</td>\n",
       "      <td>Urban</td>\n",
       "    </tr>\n",
       "  </tbody>\n",
       "</table>\n",
       "<p>3202 rows × 5 columns</p>\n",
       "</div>"
      ],
      "text/plain": [
       "       FIPS  population           county       state  urban\n",
       "0     17051       21565   Fayette County    ILLINOIS  Rural\n",
       "1     17107       29003     Logan County    ILLINOIS  Rural\n",
       "2     17165       23994    Saline County    ILLINOIS  Rural\n",
       "3     17097      701473      Lake County    ILLINOIS  Urban\n",
       "4     17127       14219    Massac County    ILLINOIS  Rural\n",
       "...     ...         ...              ...         ...    ...\n",
       "3197  47033       14399  Crockett County   TENNESSEE  Rural\n",
       "3198  47095        7401      Lake County   TENNESSEE  Rural\n",
       "3199  47093      461104      Knox County   TENNESSEE  Urban\n",
       "3200  53005      197518    Benton County  WASHINGTON  Urban\n",
       "3201  53011      473252     Clark County  WASHINGTON  Urban\n",
       "\n",
       "[3202 rows x 5 columns]"
      ]
     },
     "execution_count": 6,
     "metadata": {},
     "output_type": "execute_result"
    }
   ],
   "source": [
    "population = pd.read_csv('../data/population_by_county.csv')\n",
    "population"
   ]
  },
  {
   "cell_type": "markdown",
   "id": "d7edd6fc",
   "metadata": {},
   "source": [
    "5. Merge the `physicians` DataFrame with the `population` DataFrame. Keep only the values for Tennessee. When you merge, be sure the include both the `population` and `urban` columns in the merged results. Save the result of the merge back to `physicians`."
   ]
  },
  {
   "cell_type": "code",
   "execution_count": 7,
   "id": "afe8fbab",
   "metadata": {},
   "outputs": [
    {
     "data": {
      "text/html": [
       "<div>\n",
       "<style scoped>\n",
       "    .dataframe tbody tr th:only-of-type {\n",
       "        vertical-align: middle;\n",
       "    }\n",
       "\n",
       "    .dataframe tbody tr th {\n",
       "        vertical-align: top;\n",
       "    }\n",
       "\n",
       "    .dataframe thead th {\n",
       "        text-align: right;\n",
       "    }\n",
       "</style>\n",
       "<table border=\"1\" class=\"dataframe\">\n",
       "  <thead>\n",
       "    <tr style=\"text-align: right;\">\n",
       "      <th></th>\n",
       "      <th>FIPS</th>\n",
       "      <th>population</th>\n",
       "      <th>county</th>\n",
       "      <th>state</th>\n",
       "      <th>urban</th>\n",
       "    </tr>\n",
       "  </thead>\n",
       "  <tbody>\n",
       "    <tr>\n",
       "      <th>0</th>\n",
       "      <td>17051</td>\n",
       "      <td>21565</td>\n",
       "      <td>Fayette</td>\n",
       "      <td>ILLINOIS</td>\n",
       "      <td>Rural</td>\n",
       "    </tr>\n",
       "    <tr>\n",
       "      <th>1</th>\n",
       "      <td>17107</td>\n",
       "      <td>29003</td>\n",
       "      <td>Logan</td>\n",
       "      <td>ILLINOIS</td>\n",
       "      <td>Rural</td>\n",
       "    </tr>\n",
       "    <tr>\n",
       "      <th>2</th>\n",
       "      <td>17165</td>\n",
       "      <td>23994</td>\n",
       "      <td>Saline</td>\n",
       "      <td>ILLINOIS</td>\n",
       "      <td>Rural</td>\n",
       "    </tr>\n",
       "    <tr>\n",
       "      <th>3</th>\n",
       "      <td>17097</td>\n",
       "      <td>701473</td>\n",
       "      <td>Lake</td>\n",
       "      <td>ILLINOIS</td>\n",
       "      <td>Urban</td>\n",
       "    </tr>\n",
       "    <tr>\n",
       "      <th>4</th>\n",
       "      <td>17127</td>\n",
       "      <td>14219</td>\n",
       "      <td>Massac</td>\n",
       "      <td>ILLINOIS</td>\n",
       "      <td>Rural</td>\n",
       "    </tr>\n",
       "  </tbody>\n",
       "</table>\n",
       "</div>"
      ],
      "text/plain": [
       "    FIPS  population   county     state  urban\n",
       "0  17051       21565  Fayette  ILLINOIS  Rural\n",
       "1  17107       29003    Logan  ILLINOIS  Rural\n",
       "2  17165       23994   Saline  ILLINOIS  Rural\n",
       "3  17097      701473     Lake  ILLINOIS  Urban\n",
       "4  17127       14219   Massac  ILLINOIS  Rural"
      ]
     },
     "execution_count": 7,
     "metadata": {},
     "output_type": "execute_result"
    }
   ],
   "source": [
    "population['county'] = population['county'].str.split(' ', expand = True)[0]\n",
    "population.head()"
   ]
  },
  {
   "cell_type": "code",
   "execution_count": 8,
   "id": "e41e023d",
   "metadata": {},
   "outputs": [
    {
     "data": {
      "text/html": [
       "<div>\n",
       "<style scoped>\n",
       "    .dataframe tbody tr th:only-of-type {\n",
       "        vertical-align: middle;\n",
       "    }\n",
       "\n",
       "    .dataframe tbody tr th {\n",
       "        vertical-align: top;\n",
       "    }\n",
       "\n",
       "    .dataframe thead th {\n",
       "        text-align: right;\n",
       "    }\n",
       "</style>\n",
       "<table border=\"1\" class=\"dataframe\">\n",
       "  <thead>\n",
       "    <tr style=\"text-align: right;\">\n",
       "      <th></th>\n",
       "      <th>FIPS</th>\n",
       "      <th>state</th>\n",
       "      <th>county</th>\n",
       "      <th>primary_care_physicians</th>\n",
       "      <th>population</th>\n",
       "      <th>urban</th>\n",
       "    </tr>\n",
       "  </thead>\n",
       "  <tbody>\n",
       "    <tr>\n",
       "      <th>0</th>\n",
       "      <td>47001</td>\n",
       "      <td>Tennessee</td>\n",
       "      <td>Anderson</td>\n",
       "      <td>39.0</td>\n",
       "      <td>7835</td>\n",
       "      <td>Rural</td>\n",
       "    </tr>\n",
       "    <tr>\n",
       "      <th>1</th>\n",
       "      <td>47001</td>\n",
       "      <td>Tennessee</td>\n",
       "      <td>Anderson</td>\n",
       "      <td>39.0</td>\n",
       "      <td>22409</td>\n",
       "      <td>Rural</td>\n",
       "    </tr>\n",
       "    <tr>\n",
       "      <th>2</th>\n",
       "      <td>47001</td>\n",
       "      <td>Tennessee</td>\n",
       "      <td>Anderson</td>\n",
       "      <td>39.0</td>\n",
       "      <td>76061</td>\n",
       "      <td>Urban</td>\n",
       "    </tr>\n",
       "    <tr>\n",
       "      <th>3</th>\n",
       "      <td>47001</td>\n",
       "      <td>Tennessee</td>\n",
       "      <td>Anderson</td>\n",
       "      <td>39.0</td>\n",
       "      <td>198064</td>\n",
       "      <td>Urban</td>\n",
       "    </tr>\n",
       "    <tr>\n",
       "      <th>4</th>\n",
       "      <td>47001</td>\n",
       "      <td>Tennessee</td>\n",
       "      <td>Anderson</td>\n",
       "      <td>39.0</td>\n",
       "      <td>57810</td>\n",
       "      <td>Rural</td>\n",
       "    </tr>\n",
       "    <tr>\n",
       "      <th>...</th>\n",
       "      <td>...</td>\n",
       "      <td>...</td>\n",
       "      <td>...</td>\n",
       "      <td>...</td>\n",
       "      <td>...</td>\n",
       "      <td>...</td>\n",
       "    </tr>\n",
       "    <tr>\n",
       "      <th>631</th>\n",
       "      <td>47187</td>\n",
       "      <td>Tennessee</td>\n",
       "      <td>Williamson</td>\n",
       "      <td>338.0</td>\n",
       "      <td>225389</td>\n",
       "      <td>Urban</td>\n",
       "    </tr>\n",
       "    <tr>\n",
       "      <th>632</th>\n",
       "      <td>47189</td>\n",
       "      <td>Tennessee</td>\n",
       "      <td>Wilson</td>\n",
       "      <td>43.0</td>\n",
       "      <td>49173</td>\n",
       "      <td>Urban</td>\n",
       "    </tr>\n",
       "    <tr>\n",
       "      <th>633</th>\n",
       "      <td>47189</td>\n",
       "      <td>Tennessee</td>\n",
       "      <td>Wilson</td>\n",
       "      <td>43.0</td>\n",
       "      <td>8688</td>\n",
       "      <td>Rural</td>\n",
       "    </tr>\n",
       "    <tr>\n",
       "      <th>634</th>\n",
       "      <td>47189</td>\n",
       "      <td>Tennessee</td>\n",
       "      <td>Wilson</td>\n",
       "      <td>43.0</td>\n",
       "      <td>136666</td>\n",
       "      <td>Urban</td>\n",
       "    </tr>\n",
       "    <tr>\n",
       "      <th>635</th>\n",
       "      <td>47189</td>\n",
       "      <td>Tennessee</td>\n",
       "      <td>Wilson</td>\n",
       "      <td>43.0</td>\n",
       "      <td>81435</td>\n",
       "      <td>Rural</td>\n",
       "    </tr>\n",
       "  </tbody>\n",
       "</table>\n",
       "<p>636 rows × 6 columns</p>\n",
       "</div>"
      ],
      "text/plain": [
       "      FIPS      state      county  primary_care_physicians  population  urban\n",
       "0    47001  Tennessee    Anderson                     39.0        7835  Rural\n",
       "1    47001  Tennessee    Anderson                     39.0       22409  Rural\n",
       "2    47001  Tennessee    Anderson                     39.0       76061  Urban\n",
       "3    47001  Tennessee    Anderson                     39.0      198064  Urban\n",
       "4    47001  Tennessee    Anderson                     39.0       57810  Rural\n",
       "..     ...        ...         ...                      ...         ...    ...\n",
       "631  47187  Tennessee  Williamson                    338.0      225389  Urban\n",
       "632  47189  Tennessee      Wilson                     43.0       49173  Urban\n",
       "633  47189  Tennessee      Wilson                     43.0        8688  Rural\n",
       "634  47189  Tennessee      Wilson                     43.0      136666  Urban\n",
       "635  47189  Tennessee      Wilson                     43.0       81435  Rural\n",
       "\n",
       "[636 rows x 6 columns]"
      ]
     },
     "execution_count": 8,
     "metadata": {},
     "output_type": "execute_result"
    }
   ],
   "source": [
    "population.loc[population['state'] == 'TENNESSEE']\n",
    "physicians = pd.merge(left = physicians,\n",
    "         right = population[['county','population', 'urban']])\n",
    "physicians"
   ]
  },
  {
   "cell_type": "markdown",
   "id": "725cbabd",
   "metadata": {},
   "source": [
    "6. How many Tennessee counties are considered urban?"
   ]
  },
  {
   "cell_type": "code",
   "execution_count": 9,
   "id": "5d84feea",
   "metadata": {},
   "outputs": [
    {
     "data": {
      "text/plain": [
       "Rural    404\n",
       "Urban    232\n",
       "Name: urban, dtype: int64"
      ]
     },
     "execution_count": 9,
     "metadata": {},
     "output_type": "execute_result"
    }
   ],
   "source": [
    "physicians['urban'].value_counts()"
   ]
  },
  {
   "cell_type": "markdown",
   "id": "1346a8b6",
   "metadata": {},
   "source": [
    "7. The State Health Access Data Assistance Center (SHADAC) (https://www.shadac.org/) classifies counties into three groups based on the number of residents per primary care physician. First, counties with fewer than 1500 residents per primary care physician are considered to have an \"adequate\" supply. Counties with at least 1500 residents but fewer than 3500 residents per primary care physician are considered to have a \"moderately inadequate\" supply, and counties with at least 3500 residents per primary care physician are considered to have a \"low inadequate\" supply. How many counties in Tennessee are in each group?"
   ]
  },
  {
   "cell_type": "code",
   "execution_count": 12,
   "id": "1d7c5bb4",
   "metadata": {},
   "outputs": [
    {
     "data": {
      "text/plain": [
       "0       200.897436\n",
       "1       574.589744\n",
       "2      1950.282051\n",
       "3      5078.564103\n",
       "4      1482.307692\n",
       "          ...     \n",
       "631     666.831361\n",
       "632    1143.558140\n",
       "633     202.046512\n",
       "634    3178.279070\n",
       "635    1893.837209\n",
       "Length: 636, dtype: float64"
      ]
     },
     "execution_count": 12,
     "metadata": {},
     "output_type": "execute_result"
    }
   ],
   "source": [
    "res_per_physician = physicians['population'] / physicians['primary_care_physicians']\n",
    "res_per_physician "
   ]
  },
  {
   "cell_type": "code",
   "execution_count": 16,
   "id": "05947b99",
   "metadata": {},
   "outputs": [],
   "source": [
    "adequate = physicians.loc[(physicians['population'] / physicians['primary_care_physicians']) < 1500]\n",
    "moderately_inadequate = physicians.loc[(physicians['population'] / physicians['primary_care_physicians'] >= 1500) | \n",
    "                                       (physicians['population'] / physicians['primary_care_physicians'] <= 3500)]\n",
    "low_inadequate = physicians.loc[(physicians['population'] / physicians['primary_care_physicians']) > 3500]"
   ]
  },
  {
   "cell_type": "code",
   "execution_count": 25,
   "id": "e56bf9e3",
   "metadata": {},
   "outputs": [
    {
     "data": {
      "text/plain": [
       "239"
      ]
     },
     "execution_count": 25,
     "metadata": {},
     "output_type": "execute_result"
    }
   ],
   "source": [
    "num = len(adequate['county'])\n",
    "moderately_inadequate['county']\n",
    "low_inadequate['county']"
   ]
  },
  {
   "cell_type": "markdown",
   "id": "6a664dfd",
   "metadata": {},
   "source": [
    "8. Does there appear to be any detectable relationship between whether a county is urban or rural and its supply of primary care physicians?"
   ]
  },
  {
   "cell_type": "code",
   "execution_count": 30,
   "id": "cc2e6916",
   "metadata": {},
   "outputs": [
    {
     "data": {
      "text/plain": [
       "Rural    177\n",
       "Urban     62\n",
       "Name: urban, dtype: int64"
      ]
     },
     "execution_count": 30,
     "metadata": {},
     "output_type": "execute_result"
    }
   ],
   "source": [
    "adequate['urban'].value_counts()"
   ]
  },
  {
   "cell_type": "code",
   "execution_count": 31,
   "id": "23bcc59a",
   "metadata": {},
   "outputs": [
    {
     "data": {
      "text/plain": [
       "Rural    404\n",
       "Urban    232\n",
       "Name: urban, dtype: int64"
      ]
     },
     "execution_count": 31,
     "metadata": {},
     "output_type": "execute_result"
    }
   ],
   "source": [
    "moderately_inadequate['urban'].value_counts()"
   ]
  },
  {
   "cell_type": "code",
   "execution_count": 32,
   "id": "a7e3d529",
   "metadata": {},
   "outputs": [
    {
     "data": {
      "text/plain": [
       "Rural    135\n",
       "Urban    117\n",
       "Name: urban, dtype: int64"
      ]
     },
     "execution_count": 32,
     "metadata": {},
     "output_type": "execute_result"
    }
   ],
   "source": [
    "low_inadequate['urban'].value_counts()"
   ]
  },
  {
   "cell_type": "code",
   "execution_count": null,
   "id": "69326997",
   "metadata": {},
   "outputs": [],
   "source": []
  }
 ],
 "metadata": {
  "kernelspec": {
   "display_name": "Python 3",
   "language": "python",
   "name": "python3"
  },
  "language_info": {
   "codemirror_mode": {
    "name": "ipython",
    "version": 3
   },
   "file_extension": ".py",
   "mimetype": "text/x-python",
   "name": "python",
   "nbconvert_exporter": "python",
   "pygments_lexer": "ipython3",
   "version": "3.8.8"
  }
 },
 "nbformat": 4,
 "nbformat_minor": 5
}
