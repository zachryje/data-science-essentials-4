{
 "cells": [
  {
   "cell_type": "markdown",
   "id": "4557c358",
   "metadata": {},
   "source": [
    "### Data Science Essentials 4\n",
    "\n",
    "**TN Med Helper** is a fictional company whose mission is to ensure access to healthcare for all Tennesseans. TN Med Helper has approached your data science consultancy for help identifying communities in Tennessee that need the most help in expanding access to healthcare.\n",
    "\n",
    "In this project, we will use the [Medicare Disparities](https://data.cms.gov/mapping-medicare-disparities) data as a starting point for identifying such communities. Specifically, you will be provided with datasets containing the percent of Medicare beneficiaries who had an annual wellness visit (annual_wellness.csv), the number of all-cause hospitilizations per 1000 beneficiaries (hospitalizations.csv), and the number of emergency department visits per 1000 beneficiaries (emergency_department.csv). Over the next 8 weeks, you will work towards addressing the following three objectives.\n",
    "\n",
    "First, TN Med Helper is concerned about communities either lacking access to healthcare or losing access to healthcare. They are looking to expand telehealth technologies into the vulnerable communities, and need your help to priortize areas most needing attention. your first objective is to identify which counties in Tennessee have the most severe lack of access to healthcare (either due to lack of hospitals, physicians, or both). Once you have identified these counties, see if you can find any common demographic or economic characteristics for these areas.\n",
    "\n",
    "Second, TN Med Helper is interested in reducing the number of potentially preventable hospitalizations. Do areas that lack access to healthcare tend to have higher rates of emergency department visits or hospitalizations? Is there an association between the percentage of beneficiaries who had an annual wellness visit and rate of hospitalizations or emergency department visits?"
   ]
  },
  {
   "cell_type": "code",
   "execution_count": 34,
   "id": "5a0e5dc0",
   "metadata": {},
   "outputs": [],
   "source": [
    "import pandas as pd\n",
    "import matplotlib.pyplot as plt\n",
    "import seaborn as sns"
   ]
  },
  {
   "cell_type": "code",
   "execution_count": 80,
   "id": "f5b4fc68",
   "metadata": {},
   "outputs": [],
   "source": [
    "# Read in data files for Question 1\n",
    "physicians = pd.read_csv('../data/primary_care_physicians.csv')\n",
    "physicians = physicians.loc[physicians['state'] == 'Tennessee']\n",
    "population = pd.read_csv('../data/population_by_county.csv')\n",
    "population = population.loc[population['state'] == 'TENNESSEE']\n",
    "hospitals = pd.read_csv('../data/Hospitals.csv')\n",
    "hospitals = hospitals.loc[hospitals['STATE'] == 'TN']\n",
    "unemployment = pd.read_csv('../data/tn_unemployment.csv')\n",
    "\n",
    "# Read in data files for Question 2\n",
    "wellness = pd.read_csv('../data/Medicare_Disparities_by_Population/annual_wellness.csv')\n",
    "wellness = wellness.loc[wellness['state'] == 'TENNESSEE']\n",
    "hospitalizations = pd.read_csv('../data/Medicare_Disparities_by_Population/hospitalizations.csv')\n",
    "hospitalizations = hospitalizations.loc[hospitalizations['state'] == 'TENNESSEE']\n",
    "er_visits = pd.read_csv('../data/Medicare_Disparities_by_Population/emergency_department.csv')\n",
    "er_visits = er_visits.loc[er_visits['state'] == 'TENNESSEE']"
   ]
  },
  {
   "cell_type": "markdown",
   "id": "1d5add1f",
   "metadata": {},
   "source": [
    "Identify which counties in Tennessee have the most severe lack of access to healthcare (either due to lack of hospitals, physicians, or both)"
   ]
  },
  {
   "cell_type": "code",
   "execution_count": null,
   "id": "630f8e61",
   "metadata": {},
   "outputs": [],
   "source": [
    "# Correct column variables and merge data files; create new coluumn for residents per pcp\n",
    "population['county'] = population['county'].str.lower() # make all county names lower case\n",
    "population['county'] = population['county'].str.split(' county', expand = True)[0]\n",
    "\n",
    "physicians['county'] = physicians['county'].str.lower() # make all county names lower case\n",
    "\n",
    "physicians = pd.merge(left = physicians,\n",
    "         right = population[['county','population', 'urban']])\n",
    "physicians['residents_per_pcp'] = physicians['population'] / physicians['primary_care_physicians']\n",
    "\n",
    "# Create categories for level of care\n",
    "# Use .loc to add column, picks the new shadac category based on value in 'residents_per_pcp'\n",
    "physicians.loc[physicians['residents_per_pcp'] < 1500, 'shadac_category'] = 'adequate'\n",
    "physicians.loc[(physicians['residents_per_pcp'] >= 1500) & \n",
    "       (physicians['residents_per_pcp'] < 3500), 'shadac_category'] = 'moderately inadequate'\n",
    "physicians.loc[(physicians['residents_per_pcp'] >= 3500), 'shadac_category'] = 'low inadequate'"
   ]
  },
  {
   "cell_type": "code",
   "execution_count": 82,
   "id": "15f4fa39",
   "metadata": {},
   "outputs": [
    {
     "data": {
      "text/plain": [
       "2         benton\n",
       "3        bledsoe\n",
       "7         cannon\n",
       "11       chester\n",
       "13          clay\n",
       "16      crockett\n",
       "28      grainger\n",
       "30        grundy\n",
       "33       hancock\n",
       "34      hardeman\n",
       "36       hawkins\n",
       "37       haywood\n",
       "38     henderson\n",
       "40       hickman\n",
       "41       houston\n",
       "42     humphreys\n",
       "43       jackson\n",
       "47          lake\n",
       "48    lauderdale\n",
       "50         lewis\n",
       "55         macon\n",
       "58      marshall\n",
       "61        monroe\n",
       "63         moore\n",
       "64        morgan\n",
       "67         perry\n",
       "80       stewart\n",
       "83        tipton\n",
       "84     trousdale\n",
       "86         union\n",
       "87     van buren\n",
       "Name: county, dtype: object"
      ]
     },
     "execution_count": 82,
     "metadata": {},
     "output_type": "execute_result"
    }
   ],
   "source": [
    "# Return counties where shadac category is low inadequate for residents_per_pcp\n",
    "Lack_of_Physicians = physicians.loc[(physicians['shadac_category'] == 'low inadequate')]\n",
    "Lack_of_Physicians['county']"
   ]
  },
  {
   "cell_type": "code",
   "execution_count": 90,
   "id": "e85f21b0",
   "metadata": {},
   "outputs": [
    {
     "data": {
      "text/html": [
       "<div>\n",
       "<style scoped>\n",
       "    .dataframe tbody tr th:only-of-type {\n",
       "        vertical-align: middle;\n",
       "    }\n",
       "\n",
       "    .dataframe tbody tr th {\n",
       "        vertical-align: top;\n",
       "    }\n",
       "\n",
       "    .dataframe thead th {\n",
       "        text-align: right;\n",
       "    }\n",
       "</style>\n",
       "<table border=\"1\" class=\"dataframe\">\n",
       "  <thead>\n",
       "    <tr style=\"text-align: right;\">\n",
       "      <th></th>\n",
       "      <th>FIPS</th>\n",
       "      <th>state</th>\n",
       "      <th>county</th>\n",
       "      <th>primary_care_physicians</th>\n",
       "      <th>population</th>\n",
       "      <th>urban</th>\n",
       "      <th>residents_per_pcp</th>\n",
       "      <th>shadac_category</th>\n",
       "      <th>NAME</th>\n",
       "      <th>hospital</th>\n",
       "    </tr>\n",
       "  </thead>\n",
       "  <tbody>\n",
       "    <tr>\n",
       "      <th>0</th>\n",
       "      <td>47001</td>\n",
       "      <td>Tennessee</td>\n",
       "      <td>anderson</td>\n",
       "      <td>39.0</td>\n",
       "      <td>76061</td>\n",
       "      <td>Urban</td>\n",
       "      <td>1950.282051</td>\n",
       "      <td>moderately inadequate</td>\n",
       "      <td>METHODIST MEDICAL CENTER OF OAK RIDGE</td>\n",
       "      <td>METHODIST MEDICAL CENTER OF OAK RIDGE</td>\n",
       "    </tr>\n",
       "    <tr>\n",
       "      <th>1</th>\n",
       "      <td>47003</td>\n",
       "      <td>Tennessee</td>\n",
       "      <td>bedford</td>\n",
       "      <td>15.0</td>\n",
       "      <td>48292</td>\n",
       "      <td>Rural</td>\n",
       "      <td>3219.466667</td>\n",
       "      <td>moderately inadequate</td>\n",
       "      <td>BEDFORD COUNTY MEDICAL CENTER</td>\n",
       "      <td>BEDFORD COUNTY MEDICAL CENTER</td>\n",
       "    </tr>\n",
       "    <tr>\n",
       "      <th>2</th>\n",
       "      <td>47003</td>\n",
       "      <td>Tennessee</td>\n",
       "      <td>bedford</td>\n",
       "      <td>15.0</td>\n",
       "      <td>48292</td>\n",
       "      <td>Rural</td>\n",
       "      <td>3219.466667</td>\n",
       "      <td>moderately inadequate</td>\n",
       "      <td>BEDFORD COUNTY MEDICAL CENTER</td>\n",
       "      <td>TENNOVA HEALTHCARE - SHELBYVILLE</td>\n",
       "    </tr>\n",
       "    <tr>\n",
       "      <th>3</th>\n",
       "      <td>47003</td>\n",
       "      <td>Tennessee</td>\n",
       "      <td>bedford</td>\n",
       "      <td>15.0</td>\n",
       "      <td>48292</td>\n",
       "      <td>Rural</td>\n",
       "      <td>3219.466667</td>\n",
       "      <td>moderately inadequate</td>\n",
       "      <td>TENNOVA HEALTHCARE - SHELBYVILLE</td>\n",
       "      <td>BEDFORD COUNTY MEDICAL CENTER</td>\n",
       "    </tr>\n",
       "    <tr>\n",
       "      <th>4</th>\n",
       "      <td>47003</td>\n",
       "      <td>Tennessee</td>\n",
       "      <td>bedford</td>\n",
       "      <td>15.0</td>\n",
       "      <td>48292</td>\n",
       "      <td>Rural</td>\n",
       "      <td>3219.466667</td>\n",
       "      <td>moderately inadequate</td>\n",
       "      <td>TENNOVA HEALTHCARE - SHELBYVILLE</td>\n",
       "      <td>TENNOVA HEALTHCARE - SHELBYVILLE</td>\n",
       "    </tr>\n",
       "  </tbody>\n",
       "</table>\n",
       "</div>"
      ],
      "text/plain": [
       "    FIPS      state    county  primary_care_physicians  population  urban  \\\n",
       "0  47001  Tennessee  anderson                     39.0       76061  Urban   \n",
       "1  47003  Tennessee   bedford                     15.0       48292  Rural   \n",
       "2  47003  Tennessee   bedford                     15.0       48292  Rural   \n",
       "3  47003  Tennessee   bedford                     15.0       48292  Rural   \n",
       "4  47003  Tennessee   bedford                     15.0       48292  Rural   \n",
       "\n",
       "   residents_per_pcp        shadac_category  \\\n",
       "0        1950.282051  moderately inadequate   \n",
       "1        3219.466667  moderately inadequate   \n",
       "2        3219.466667  moderately inadequate   \n",
       "3        3219.466667  moderately inadequate   \n",
       "4        3219.466667  moderately inadequate   \n",
       "\n",
       "                                    NAME  \\\n",
       "0  METHODIST MEDICAL CENTER OF OAK RIDGE   \n",
       "1          BEDFORD COUNTY MEDICAL CENTER   \n",
       "2          BEDFORD COUNTY MEDICAL CENTER   \n",
       "3       TENNOVA HEALTHCARE - SHELBYVILLE   \n",
       "4       TENNOVA HEALTHCARE - SHELBYVILLE   \n",
       "\n",
       "                                hospital  \n",
       "0  METHODIST MEDICAL CENTER OF OAK RIDGE  \n",
       "1          BEDFORD COUNTY MEDICAL CENTER  \n",
       "2       TENNOVA HEALTHCARE - SHELBYVILLE  \n",
       "3          BEDFORD COUNTY MEDICAL CENTER  \n",
       "4       TENNOVA HEALTHCARE - SHELBYVILLE  "
      ]
     },
     "execution_count": 90,
     "metadata": {},
     "output_type": "execute_result"
    }
   ],
   "source": [
    "# Merge hospitals and physicians data frames\n",
    "# Correct column variables and merge data files; create new coluumn for residents per hospital\n",
    "hospitals['COUNTY'] = hospitals['COUNTY'].str.lower() # make all county names lower case\n",
    "\n",
    "physicians = pd.merge(left = physicians,\n",
    "         right = hospitals[['COUNTY','NAME']].rename(columns = {'COUNTY': 'county', 'NAME': 'hospital'}))\n",
    "physicians.head()"
   ]
  },
  {
   "cell_type": "code",
   "execution_count": 87,
   "id": "67b39e81",
   "metadata": {},
   "outputs": [],
   "source": [
    "# Find the number of hospitals per county \n"
   ]
  },
  {
   "cell_type": "code",
   "execution_count": 91,
   "id": "b141602b",
   "metadata": {},
   "outputs": [],
   "source": [
    "# Identify which counties in Tennessee have the most severe lack of access to healthcare \n",
    "# due to lack of hospitals & physicians"
   ]
  },
  {
   "cell_type": "markdown",
   "id": "731a7018",
   "metadata": {},
   "source": [
    "Once you have identified these counties, see if you can find any common demographic or economic characteristics for these areas."
   ]
  },
  {
   "cell_type": "code",
   "execution_count": 92,
   "id": "a39fc383",
   "metadata": {},
   "outputs": [
    {
     "ename": "NameError",
     "evalue": "name 'unemployment' is not defined",
     "output_type": "error",
     "traceback": [
      "\u001b[1;31m---------------------------------------------------------------------------\u001b[0m",
      "\u001b[1;31mNameError\u001b[0m                                 Traceback (most recent call last)",
      "\u001b[1;32m~\\AppData\\Local\\Temp/ipykernel_14844/854366901.py\u001b[0m in \u001b[0;36m<module>\u001b[1;34m\u001b[0m\n\u001b[1;32m----> 1\u001b[1;33m \u001b[0munemployment\u001b[0m\u001b[1;33m[\u001b[0m\u001b[1;34m'Name'\u001b[0m\u001b[1;33m]\u001b[0m \u001b[1;33m=\u001b[0m \u001b[0munemployment\u001b[0m\u001b[1;33m[\u001b[0m\u001b[1;34m'Name'\u001b[0m\u001b[1;33m]\u001b[0m\u001b[1;33m.\u001b[0m\u001b[0mstr\u001b[0m\u001b[1;33m.\u001b[0m\u001b[0mlower\u001b[0m\u001b[1;33m(\u001b[0m\u001b[1;33m)\u001b[0m\u001b[1;33m\u001b[0m\u001b[1;33m\u001b[0m\u001b[0m\n\u001b[0m\u001b[0;32m      2\u001b[0m \u001b[0munemployment\u001b[0m\u001b[1;33m[\u001b[0m\u001b[1;34m'Name'\u001b[0m\u001b[1;33m]\u001b[0m \u001b[1;33m=\u001b[0m \u001b[0munemployment\u001b[0m\u001b[1;33m[\u001b[0m\u001b[1;34m'Name'\u001b[0m\u001b[1;33m]\u001b[0m\u001b[1;33m.\u001b[0m\u001b[0mstr\u001b[0m\u001b[1;33m.\u001b[0m\u001b[0msplit\u001b[0m\u001b[1;33m(\u001b[0m\u001b[1;34m' county'\u001b[0m\u001b[1;33m,\u001b[0m \u001b[0mexpand\u001b[0m \u001b[1;33m=\u001b[0m \u001b[1;32mTrue\u001b[0m\u001b[1;33m)\u001b[0m\u001b[1;33m[\u001b[0m\u001b[1;36m0\u001b[0m\u001b[1;33m]\u001b[0m\u001b[1;33m\u001b[0m\u001b[1;33m\u001b[0m\u001b[0m\n\u001b[0;32m      3\u001b[0m physicians = pd.merge(left = physicians,\n\u001b[0;32m      4\u001b[0m          right = unemployment[['Name', 'unemployment_rate']].rename(columns = {'Name': 'county'}))\n",
      "\u001b[1;31mNameError\u001b[0m: name 'unemployment' is not defined"
     ]
    }
   ],
   "source": [
    "# Work with unemployment file\n",
    "unemployment['Name'] = unemployment['Name'].str.lower()\n",
    "unemployment['Name'] = unemployment['Name'].str.split(' county', expand = True)[0]\n",
    "physicians = pd.merge(left = physicians,\n",
    "         right = unemployment[['Name', 'unemployment_rate']].rename(columns = {'Name': 'county'}))"
   ]
  }
 ],
 "metadata": {
  "kernelspec": {
   "display_name": "Python 3 (ipykernel)",
   "language": "python",
   "name": "python3"
  },
  "language_info": {
   "codemirror_mode": {
    "name": "ipython",
    "version": 3
   },
   "file_extension": ".py",
   "mimetype": "text/x-python",
   "name": "python",
   "nbconvert_exporter": "python",
   "pygments_lexer": "ipython3",
   "version": "3.8.8"
  }
 },
 "nbformat": 4,
 "nbformat_minor": 5
}
