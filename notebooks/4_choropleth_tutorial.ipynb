{
 "cells": [
  {
   "cell_type": "code",
   "execution_count": null,
   "metadata": {},
   "outputs": [],
   "source": [
    "import pandas as pd\n",
    "import geopandas as gpd\n",
    "import matplotlib.pyplot as plt"
   ]
  },
  {
   "cell_type": "markdown",
   "metadata": {},
   "source": [
    "First, we're going to import data on the median income by county.\n",
    "\n",
    "This data is contained in the file est18.all.xls, an Excel file. (If you're able to) open this file to see what the format looks like.\n",
    "\n",
    "Luckily for us, _pandas_ has a _read_excel_ function we can use here. First, let's check the documentation."
   ]
  },
  {
   "cell_type": "code",
   "execution_count": null,
   "metadata": {},
   "outputs": [],
   "source": [
    "pd.read_excel?"
   ]
  },
  {
   "cell_type": "markdown",
   "metadata": {},
   "source": [
    "Out of all of the arguments, we are going to use four:\n",
    "* `io` - This will be the filepath to our Excel file\n",
    "* `sheet_name` - We'll specify the name of the sheet containing the data we need.\n",
    "* `header` - The row containing the column names. Note that we start counting from 0.\n",
    "* `usecols` - A string indicating the columns we want to include. We'll get the state, county, and median household income information."
   ]
  },
  {
   "cell_type": "code",
   "execution_count": null,
   "metadata": {},
   "outputs": [],
   "source": [
    "median_income = pd.read_excel('../data/est18all.xls',\n",
    "              sheet_name = 'est18ALL',\n",
    "             header = 3,\n",
    "             usecols = 'C,D,W')"
   ]
  },
  {
   "cell_type": "code",
   "execution_count": null,
   "metadata": {},
   "outputs": [],
   "source": [
    "median_income.head(2)"
   ]
  },
  {
   "cell_type": "markdown",
   "metadata": {},
   "source": [
    "For this map, we only need the counties located in Tennessee."
   ]
  },
  {
   "cell_type": "code",
   "execution_count": null,
   "metadata": {},
   "outputs": [],
   "source": [
    "median_income = median_income.loc[median_income['Postal Code'] == 'TN']\n",
    "median_income.head(2)"
   ]
  },
  {
   "cell_type": "markdown",
   "metadata": {},
   "source": [
    "We can remove the first row."
   ]
  },
  {
   "cell_type": "code",
   "execution_count": null,
   "metadata": {},
   "outputs": [],
   "source": [
    "median_income = median_income.iloc[1:]\n",
    "median_income.head(2)"
   ]
  },
  {
   "cell_type": "markdown",
   "metadata": {},
   "source": [
    "Now, let's read in our counties shapefiles. This one was obtained from http://www.tngis.org/administrative-boundaries.htm\n",
    "\n",
    "This creates a geopandas DataFrame, which is like a pandas DataFrame, but has geometry associated with it."
   ]
  },
  {
   "cell_type": "code",
   "execution_count": null,
   "metadata": {},
   "outputs": [],
   "source": [
    "counties = gpd.read_file('../data/county/tncounty.shp')"
   ]
  },
  {
   "cell_type": "code",
   "execution_count": null,
   "metadata": {},
   "outputs": [],
   "source": [
    "counties.head()"
   ]
  },
  {
   "cell_type": "markdown",
   "metadata": {},
   "source": [
    "The `geometry` column contains shapely Polygon or Multipolygon objects giving the boundaries of each county."
   ]
  },
  {
   "cell_type": "code",
   "execution_count": null,
   "metadata": {},
   "outputs": [],
   "source": [
    "counties.loc[0, 'geometry']"
   ]
  },
  {
   "cell_type": "code",
   "execution_count": null,
   "metadata": {},
   "outputs": [],
   "source": [
    "print(counties.loc[0,'geometry'])"
   ]
  },
  {
   "cell_type": "markdown",
   "metadata": {},
   "source": [
    "If we call `.plot()` and a GeoDataFrame, it will render a plot using the geometry column."
   ]
  },
  {
   "cell_type": "code",
   "execution_count": null,
   "metadata": {},
   "outputs": [],
   "source": [
    "counties.plot();"
   ]
  },
  {
   "cell_type": "markdown",
   "metadata": {},
   "source": [
    "If we want a larger plot, we can use `plt.subplots()` and set a figsize. When we create our plot, we need to specify that we want it to render on the axes we just created."
   ]
  },
  {
   "cell_type": "code",
   "execution_count": null,
   "metadata": {},
   "outputs": [],
   "source": [
    "fig, ax = plt.subplots(figsize=(16,4))\n",
    "counties.plot(ax = ax);"
   ]
  },
  {
   "cell_type": "markdown",
   "metadata": {},
   "source": [
    "Since the axes are not conveying useful information, we can remove them."
   ]
  },
  {
   "cell_type": "code",
   "execution_count": null,
   "metadata": {},
   "outputs": [],
   "source": [
    "fig, ax = plt.subplots(figsize=(16,4))\n",
    "counties.plot(ax = ax)\n",
    "ax.axis('off');"
   ]
  },
  {
   "cell_type": "markdown",
   "metadata": {},
   "source": [
    "Now, we can merge the geoDataFrame with our median income dataframe."
   ]
  },
  {
   "cell_type": "code",
   "execution_count": null,
   "metadata": {},
   "outputs": [],
   "source": [
    "counties.head(2)"
   ]
  },
  {
   "cell_type": "code",
   "execution_count": null,
   "metadata": {},
   "outputs": [],
   "source": [
    "median_income.head(2)"
   ]
  },
  {
   "cell_type": "markdown",
   "metadata": {},
   "source": [
    "Some string manipulation so that the county name formats match."
   ]
  },
  {
   "cell_type": "code",
   "execution_count": null,
   "metadata": {},
   "outputs": [],
   "source": [
    "median_income['NAME'] = median_income['Name'].str[:-7]"
   ]
  },
  {
   "cell_type": "code",
   "execution_count": null,
   "metadata": {},
   "outputs": [],
   "source": [
    "counties = pd.merge(left = counties,\n",
    "                    right = median_income[['NAME', 'Median Household Income']])\n",
    "counties.head()"
   ]
  },
  {
   "cell_type": "markdown",
   "metadata": {},
   "source": [
    "To color our map based on a column, we can use the `column` argument."
   ]
  },
  {
   "cell_type": "code",
   "execution_count": null,
   "metadata": {},
   "outputs": [],
   "source": [
    "fig, ax = plt.subplots(figsize=(16,4))\n",
    "counties.plot(column = 'Median Household Income',\n",
    "              ax = ax)\n",
    "ax.axis('off');"
   ]
  },
  {
   "cell_type": "markdown",
   "metadata": {},
   "source": [
    "Why does our map look like this?"
   ]
  },
  {
   "cell_type": "code",
   "execution_count": null,
   "metadata": {},
   "outputs": [],
   "source": [
    "counties.info()"
   ]
  },
  {
   "cell_type": "markdown",
   "metadata": {},
   "source": [
    "It turns out that _pandas_ is treating the median income column as an object. We need to to realize that it is a numeric column.\""
   ]
  },
  {
   "cell_type": "code",
   "execution_count": null,
   "metadata": {},
   "outputs": [],
   "source": [
    "counties['Median Household Income'] = pd.to_numeric(counties['Median Household Income'])"
   ]
  },
  {
   "cell_type": "code",
   "execution_count": null,
   "metadata": {},
   "outputs": [],
   "source": [
    "fig, ax = plt.subplots(figsize=(16,4))\n",
    "counties.plot(column = 'Median Household Income',\n",
    "              ax = ax)\n",
    "ax.axis('off');"
   ]
  },
  {
   "cell_type": "code",
   "execution_count": null,
   "metadata": {},
   "outputs": [],
   "source": [
    "fig, ax = plt.subplots(figsize=(16,4))\n",
    "counties.plot(column = 'Median Household Income', \n",
    "              edgecolor = 'black', \n",
    "              legend = True,\n",
    "              ax = ax)\n",
    "ax.axis('off');"
   ]
  },
  {
   "cell_type": "markdown",
   "metadata": {},
   "source": [
    "By default, geopandas will use a continuous colorscale for the choropleth, which lead to a less than optimal map when you have a disproportionately large value, like we have with Williamson County. \n",
    "\n",
    "We can specify a different scheme to use. For example, let's use the [Jenks natural breaks classification method](https://en.wikipedia.org/wiki/Jenks_natural_breaks_optimization).\n",
    "\n",
    "We'll also specify a different colormap using the `cmap` argument. A list of named colormaps is available at https://matplotlib.org/3.1.1/gallery/color/colormap_reference.html."
   ]
  },
  {
   "cell_type": "code",
   "execution_count": null,
   "metadata": {},
   "outputs": [],
   "source": [
    "fig, ax = plt.subplots(figsize=(16,4))\n",
    "\n",
    "counties.plot(column = 'Median Household Income', \n",
    "              edgecolor = 'black', \n",
    "              legend = True,\n",
    "              cmap = 'Blues',\n",
    "              scheme=\"NaturalBreaks\",\n",
    "              ax = ax)\n",
    "\n",
    "# Position the legend\n",
    "leg = ax.get_legend()\n",
    "leg.set_bbox_to_anchor((1, 0.5))\n",
    "\n",
    "# Add a title\n",
    "plt.title('Median Household Income by County, 2018', fontsize = 18)\n",
    "\n",
    "ax.axis('off');"
   ]
  },
  {
   "cell_type": "markdown",
   "metadata": {},
   "source": [
    "**Warning: More advanced code below**\n",
    "\n",
    "The default legend formatting could be improved. The following cells shows how we can do some advanced formatting to change the legend labels."
   ]
  },
  {
   "cell_type": "code",
   "execution_count": null,
   "metadata": {},
   "outputs": [],
   "source": [
    "from matplotlib.lines import Line2D\n",
    "\n",
    "fig, ax = plt.subplots(figsize=(16,4))\n",
    "\n",
    "counties.plot(column = 'Median Household Income', \n",
    "              edgecolor = 'black',\n",
    "              legend = True,\n",
    "              cmap = 'Blues',\n",
    "              scheme=\"NaturalBreaks\",\n",
    "              ax = ax)\n",
    "\n",
    "leg = ax.get_legend()\n",
    "\n",
    "# Adjust the formatting of the legend\n",
    "labels = []\n",
    "n = len(leg.get_texts())\n",
    "for i, lbl in enumerate(leg.get_texts()):\n",
    "    label_text = lbl.get_text()\n",
    "    lower = float(label_text.split()[0][:-1])\n",
    "    upper = float(label_text.split()[1][:-1])\n",
    "    if i == 0:\n",
    "        new_text = \"Below \" + \"\\${:,.0f}\".format(upper + 1)\n",
    "    elif i == n - 1:\n",
    "        new_text = \"Above \" + \"\\${:,.0f}\".format(lower)\n",
    "    else:\n",
    "        new_text = \"\\${:,.0f}\".format(lower + 1) + \" - \" + \"\\${:,.0f}\".format(upper)\n",
    "        \n",
    "    labels.append(new_text)\n",
    "\n",
    "# Adjust the marker appearance\n",
    "# Extract the old markers and then modify by setting the edgecolor and edgewidth\n",
    "markers = []\n",
    "for line in leg.get_lines():\n",
    "    marker = Line2D([0],[0], marker = 'o', \n",
    "                    markersize = line.get_markersize(), \n",
    "                    color = line.get_markerfacecolor(),\n",
    "                    linestyle = 'None',\n",
    "                    markeredgecolor = 'black',\n",
    "                    markeredgewidth = 1)\n",
    "    markers.append(marker)\n",
    "\n",
    "# Redraw the legend with the new labels and markers\n",
    "plt.legend(markers, labels, fontsize = 12)\n",
    "leg = ax.get_legend()\n",
    "leg.set_bbox_to_anchor((1, 0.5))\n",
    "    \n",
    "plt.title('Median Household Income by County, 2018', fontsize = 18)\n",
    "\n",
    "ax.axis('off');"
   ]
  }
 ],
 "metadata": {
  "kernelspec": {
   "display_name": "Python 3 (ipykernel)",
   "language": "python",
   "name": "python3"
  },
  "language_info": {
   "codemirror_mode": {
    "name": "ipython",
    "version": 3
   },
   "file_extension": ".py",
   "mimetype": "text/x-python",
   "name": "python",
   "nbconvert_exporter": "python",
   "pygments_lexer": "ipython3",
   "version": "3.8.3"
  }
 },
 "nbformat": 4,
 "nbformat_minor": 2
}
